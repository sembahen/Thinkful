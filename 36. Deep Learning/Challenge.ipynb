{
 "cells": [
  {
   "cell_type": "markdown",
   "metadata": {
    "colab_type": "text",
    "id": "0AHZjydDj9Nf"
   },
   "source": [
    "<b>Deep Neural Networks</b>"
   ]
  },
  {
   "cell_type": "code",
   "execution_count": 1,
   "metadata": {
    "colab": {
     "base_uri": "https://localhost:8080/",
     "height": 390
    },
    "colab_type": "code",
    "executionInfo": {
     "elapsed": 5356,
     "status": "ok",
     "timestamp": 1588973130073,
     "user": {
      "displayName": "Henry Ssembatya",
      "photoUrl": "",
      "userId": "05835713183770896924"
     },
     "user_tz": 420
    },
    "id": "c9lGPxEXn9Ic",
    "outputId": "16784027-36dd-4266-9952-8ca4251fb3af"
   },
   "outputs": [
    {
     "name": "stdout",
     "output_type": "stream",
     "text": [
      "Collecting tensorflow-gpu==2.0.0-rc1\n",
      "  Downloading https://files.pythonhosted.org/packages/cd/cf/743fd414a712de2f577bc7cbb09f5161059a484500ba9f880b6bda8d653c/tensorflow_gpu-2.0.0rc1-cp37-cp37m-win_amd64.whl (285.1MB)\n",
      "Collecting grpcio>=1.8.6 (from tensorflow-gpu==2.0.0-rc1)\n",
      "  Downloading https://files.pythonhosted.org/packages/e3/76/c57d515a3c27d669c9eb5b457f0f898b7a1982f55723ccdee44884756cdd/grpcio-1.28.1-cp37-cp37m-win_amd64.whl (2.0MB)\n",
      "Collecting absl-py>=0.7.0 (from tensorflow-gpu==2.0.0-rc1)\n",
      "  Downloading https://files.pythonhosted.org/packages/1a/53/9243c600e047bd4c3df9e69cfabc1e8004a82cac2e0c484580a78a94ba2a/absl-py-0.9.0.tar.gz (104kB)\n",
      "Collecting opt-einsum>=2.3.2 (from tensorflow-gpu==2.0.0-rc1)\n",
      "  Downloading https://files.pythonhosted.org/packages/63/a5/e6c07b08b934831ccb8c98ee335e66b7761c5754ee3cabfe4c11d0b1af28/opt_einsum-3.2.1-py3-none-any.whl (63kB)\n",
      "Collecting keras-applications>=1.0.8 (from tensorflow-gpu==2.0.0-rc1)\n",
      "  Downloading https://files.pythonhosted.org/packages/71/e3/19762fdfc62877ae9102edf6342d71b28fbfd9dea3d2f96a882ce099b03f/Keras_Applications-1.0.8-py3-none-any.whl (50kB)\n",
      "Collecting gast>=0.2.0 (from tensorflow-gpu==2.0.0-rc1)\n",
      "  Downloading https://files.pythonhosted.org/packages/d6/84/759f5dd23fec8ba71952d97bcc7e2c9d7d63bdc582421f3cd4be845f0c98/gast-0.3.3-py2.py3-none-any.whl\n",
      "Requirement already satisfied: numpy<2.0,>=1.16.0 in c:\\users\\sembahen\\anaconda3\\lib\\site-packages (from tensorflow-gpu==2.0.0-rc1) (1.16.5)\n",
      "Collecting protobuf>=3.6.1 (from tensorflow-gpu==2.0.0-rc1)\n",
      "  Downloading https://files.pythonhosted.org/packages/92/30/1b7ccde09bf0c535d11f18a574ed7d7572c729a8f754fd568b297be08b61/protobuf-3.11.3-cp37-cp37m-win_amd64.whl (1.0MB)\n",
      "Collecting astor>=0.6.0 (from tensorflow-gpu==2.0.0-rc1)\n",
      "  Downloading https://files.pythonhosted.org/packages/c3/88/97eef84f48fa04fbd6750e62dcceafba6c63c81b7ac1420856c8dcc0a3f9/astor-0.8.1-py2.py3-none-any.whl\n",
      "Requirement already satisfied: wheel>=0.26 in c:\\users\\sembahen\\anaconda3\\lib\\site-packages (from tensorflow-gpu==2.0.0-rc1) (0.33.6)\n",
      "Requirement already satisfied: six>=1.10.0 in c:\\users\\sembahen\\anaconda3\\lib\\site-packages (from tensorflow-gpu==2.0.0-rc1) (1.12.0)\n",
      "Collecting tb-nightly<1.15.0a20190807,>=1.15.0a20190806 (from tensorflow-gpu==2.0.0-rc1)\n",
      "  Downloading https://files.pythonhosted.org/packages/bc/88/24b5fb7280e74c7cf65bde47c171547fd02afb3840cff41bcbe9270650f5/tb_nightly-1.15.0a20190806-py3-none-any.whl (4.3MB)\n",
      "Collecting google-pasta>=0.1.6 (from tensorflow-gpu==2.0.0-rc1)\n",
      "  Downloading https://files.pythonhosted.org/packages/a3/de/c648ef6835192e6e2cc03f40b19eeda4382c49b5bafb43d88b931c4c74ac/google_pasta-0.2.0-py3-none-any.whl (57kB)\n",
      "Requirement already satisfied: wrapt>=1.11.1 in c:\\users\\sembahen\\anaconda3\\lib\\site-packages (from tensorflow-gpu==2.0.0-rc1) (1.11.2)\n",
      "Collecting keras-preprocessing>=1.0.5 (from tensorflow-gpu==2.0.0-rc1)\n",
      "  Downloading https://files.pythonhosted.org/packages/28/6a/8c1f62c37212d9fc441a7e26736df51ce6f0e38455816445471f10da4f0a/Keras_Preprocessing-1.1.0-py2.py3-none-any.whl (41kB)\n",
      "Collecting tf-estimator-nightly<1.14.0.dev2019080602,>=1.14.0.dev2019080601 (from tensorflow-gpu==2.0.0-rc1)\n",
      "  Downloading https://files.pythonhosted.org/packages/21/28/f2a27a62943d5f041e4a6fd404b2d21cb7c59b2242a4e73b03d9ba166552/tf_estimator_nightly-1.14.0.dev2019080601-py2.py3-none-any.whl (501kB)\n",
      "Collecting termcolor>=1.1.0 (from tensorflow-gpu==2.0.0-rc1)\n",
      "  Downloading https://files.pythonhosted.org/packages/8a/48/a76be51647d0eb9f10e2a4511bf3ffb8cc1e6b14e9e4fab46173aa79f981/termcolor-1.1.0.tar.gz\n",
      "Requirement already satisfied: h5py in c:\\users\\sembahen\\anaconda3\\lib\\site-packages (from keras-applications>=1.0.8->tensorflow-gpu==2.0.0-rc1) (2.9.0)\n",
      "Requirement already satisfied: setuptools in c:\\users\\sembahen\\anaconda3\\lib\\site-packages (from protobuf>=3.6.1->tensorflow-gpu==2.0.0-rc1) (41.4.0)\n",
      "Requirement already satisfied: werkzeug>=0.11.15 in c:\\users\\sembahen\\anaconda3\\lib\\site-packages (from tb-nightly<1.15.0a20190807,>=1.15.0a20190806->tensorflow-gpu==2.0.0-rc1) (0.16.0)\n",
      "Collecting markdown>=2.6.8 (from tb-nightly<1.15.0a20190807,>=1.15.0a20190806->tensorflow-gpu==2.0.0-rc1)\n",
      "  Downloading https://files.pythonhosted.org/packages/a4/63/eaec2bd025ab48c754b55e8819af0f6a69e2b1e187611dd40cbbe101ee7f/Markdown-3.2.2-py3-none-any.whl (88kB)\n",
      "Requirement already satisfied: importlib-metadata; python_version < \"3.8\" in c:\\users\\sembahen\\anaconda3\\lib\\site-packages (from markdown>=2.6.8->tb-nightly<1.15.0a20190807,>=1.15.0a20190806->tensorflow-gpu==2.0.0-rc1) (0.23)\n",
      "Requirement already satisfied: zipp>=0.5 in c:\\users\\sembahen\\anaconda3\\lib\\site-packages (from importlib-metadata; python_version < \"3.8\"->markdown>=2.6.8->tb-nightly<1.15.0a20190807,>=1.15.0a20190806->tensorflow-gpu==2.0.0-rc1) (0.6.0)\n",
      "Requirement already satisfied: more-itertools in c:\\users\\sembahen\\anaconda3\\lib\\site-packages (from zipp>=0.5->importlib-metadata; python_version < \"3.8\"->markdown>=2.6.8->tb-nightly<1.15.0a20190807,>=1.15.0a20190806->tensorflow-gpu==2.0.0-rc1) (7.2.0)\n",
      "Building wheels for collected packages: absl-py, termcolor\n",
      "  Building wheel for absl-py (setup.py): started\n",
      "  Building wheel for absl-py (setup.py): finished with status 'done'\n",
      "  Created wheel for absl-py: filename=absl_py-0.9.0-cp37-none-any.whl size=121936 sha256=9f2d3ead23a9bd386f4f8ee1fd7ca4341b23957b938b4d0c867c4653157b9f87\n",
      "  Stored in directory: C:\\Users\\sembahen\\AppData\\Local\\pip\\Cache\\wheels\\8e\\28\\49\\fad4e7f0b9a1227708cbbee4487ac8558a7334849cb81c813d\n",
      "  Building wheel for termcolor (setup.py): started\n",
      "  Building wheel for termcolor (setup.py): finished with status 'done'\n",
      "  Created wheel for termcolor: filename=termcolor-1.1.0-cp37-none-any.whl size=4835 sha256=47639526e7ec4dac0b3a06d7c383d5db7a7d4d55e5f976b06fbd52b70f4817ee\n",
      "  Stored in directory: C:\\Users\\sembahen\\AppData\\Local\\pip\\Cache\\wheels\\7c\\06\\54\\bc84598ba1daf8f970247f550b175aaaee85f68b4b0c5ab2c6\n",
      "Successfully built absl-py termcolor\n",
      "Installing collected packages: grpcio, absl-py, opt-einsum, keras-applications, gast, protobuf, astor, markdown, tb-nightly, google-pasta, keras-preprocessing, tf-estimator-nightly, termcolor, tensorflow-gpu\n",
      "Successfully installed absl-py-0.9.0 astor-0.8.1 gast-0.3.3 google-pasta-0.2.0 grpcio-1.28.1 keras-applications-1.0.8 keras-preprocessing-1.1.0 markdown-3.2.2 opt-einsum-3.2.1 protobuf-3.11.3 tb-nightly-1.15.0a20190806 tensorflow-gpu-2.0.0rc1 termcolor-1.1.0 tf-estimator-nightly-1.14.0.dev2019080601\n"
     ]
    }
   ],
   "source": [
    "\n",
    "! pip install tensorflow-gpu==2.0.0-rc1\n",
    "from tensorflow.keras.models import Sequential\n",
    "\n",
    "import warnings\n",
    "warnings.filterwarnings(\"ignore\")\n",
    "\n",
    "# TensorFlow and tf.keras\n",
    "import tensorflow as tf\n",
    "from tensorflow import keras"
   ]
  },
  {
   "cell_type": "markdown",
   "metadata": {
    "colab_type": "text",
    "id": "mKaU30qwqopy"
   },
   "source": [
    "1. Loading the dataset and  preprocessing "
   ]
  },
  {
   "cell_type": "code",
   "execution_count": 2,
   "metadata": {
    "colab": {},
    "colab_type": "code",
    "id": "W_VxOJqVn3mu"
   },
   "outputs": [],
   "source": [
    "import numpy as np\n",
    "import matplotlib.pyplot as plt\n",
    "from sklearn.datasets import fetch_openml\n",
    "import time\n",
    "from tensorflow.keras.datasets import fashion_mnist"
   ]
  },
  {
   "cell_type": "code",
   "execution_count": 3,
   "metadata": {
    "colab": {},
    "colab_type": "code",
    "id": "SYj22015RRw0"
   },
   "outputs": [
    {
     "name": "stdout",
     "output_type": "stream",
     "text": [
      "Downloading data from https://storage.googleapis.com/tensorflow/tf-keras-datasets/train-labels-idx1-ubyte.gz\n",
      "32768/29515 [=================================] - 0s 2us/step\n",
      "Downloading data from https://storage.googleapis.com/tensorflow/tf-keras-datasets/train-images-idx3-ubyte.gz\n",
      "26427392/26421880 [==============================] - 3s 0us/step\n",
      "Downloading data from https://storage.googleapis.com/tensorflow/tf-keras-datasets/t10k-labels-idx1-ubyte.gz\n",
      "8192/5148 [===============================================] - 0s 0us/step\n",
      "Downloading data from https://storage.googleapis.com/tensorflow/tf-keras-datasets/t10k-images-idx3-ubyte.gz\n",
      "4423680/4422102 [==============================] - 1s 0us/step\n"
     ]
    }
   ],
   "source": [
    "fashion_mnist = keras.datasets.fashion_mnist\n",
    "(X_train, y_train), (X_test, y_test) = fashion_mnist.load_data()"
   ]
  },
  {
   "cell_type": "code",
   "execution_count": 4,
   "metadata": {
    "colab": {
     "base_uri": "https://localhost:8080/",
     "height": 34
    },
    "colab_type": "code",
    "executionInfo": {
     "elapsed": 6018,
     "status": "ok",
     "timestamp": 1588973130879,
     "user": {
      "displayName": "Henry Ssembatya",
      "photoUrl": "",
      "userId": "05835713183770896924"
     },
     "user_tz": 420
    },
    "id": "QBBqNrXSU0tV",
    "outputId": "f622c44b-35da-48c8-98ae-07caf7feca7a"
   },
   "outputs": [
    {
     "data": {
      "text/plain": [
       "(60000, 28, 28)"
      ]
     },
     "execution_count": 4,
     "metadata": {},
     "output_type": "execute_result"
    }
   ],
   "source": [
    "X_train.shape"
   ]
  },
  {
   "cell_type": "code",
   "execution_count": 5,
   "metadata": {
    "colab": {
     "base_uri": "https://localhost:8080/",
     "height": 34
    },
    "colab_type": "code",
    "executionInfo": {
     "elapsed": 5968,
     "status": "ok",
     "timestamp": 1588973130881,
     "user": {
      "displayName": "Henry Ssembatya",
      "photoUrl": "",
      "userId": "05835713183770896924"
     },
     "user_tz": 420
    },
    "id": "Klc2u7yUU_hr",
    "outputId": "16675328-470f-4897-80b5-79ba0bc0952c"
   },
   "outputs": [
    {
     "data": {
      "text/plain": [
       "60000"
      ]
     },
     "execution_count": 5,
     "metadata": {},
     "output_type": "execute_result"
    }
   ],
   "source": [
    "len(y_train)"
   ]
  },
  {
   "cell_type": "code",
   "execution_count": 6,
   "metadata": {
    "colab": {
     "base_uri": "https://localhost:8080/",
     "height": 34
    },
    "colab_type": "code",
    "executionInfo": {
     "elapsed": 5918,
     "status": "ok",
     "timestamp": 1588973130887,
     "user": {
      "displayName": "Henry Ssembatya",
      "photoUrl": "",
      "userId": "05835713183770896924"
     },
     "user_tz": 420
    },
    "id": "6Fsa-z52VLso",
    "outputId": "8fc378b4-196c-481a-f15b-8e17b741e3ac"
   },
   "outputs": [
    {
     "data": {
      "text/plain": [
       "array([9, 0, 0, ..., 3, 0, 5], dtype=uint8)"
      ]
     },
     "execution_count": 6,
     "metadata": {},
     "output_type": "execute_result"
    }
   ],
   "source": [
    "y_train"
   ]
  },
  {
   "cell_type": "code",
   "execution_count": 7,
   "metadata": {
    "colab": {
     "base_uri": "https://localhost:8080/",
     "height": 34
    },
    "colab_type": "code",
    "executionInfo": {
     "elapsed": 5877,
     "status": "ok",
     "timestamp": 1588973130890,
     "user": {
      "displayName": "Henry Ssembatya",
      "photoUrl": "",
      "userId": "05835713183770896924"
     },
     "user_tz": 420
    },
    "id": "Yj_cFZfQVPig",
    "outputId": "2eaa4b6b-b379-4763-ab80-7143372d2237"
   },
   "outputs": [
    {
     "data": {
      "text/plain": [
       "(10000, 28, 28)"
      ]
     },
     "execution_count": 7,
     "metadata": {},
     "output_type": "execute_result"
    }
   ],
   "source": [
    "X_test.shape"
   ]
  },
  {
   "cell_type": "code",
   "execution_count": 8,
   "metadata": {
    "colab": {},
    "colab_type": "code",
    "id": "6YcNV4IBVaPG"
   },
   "outputs": [],
   "source": [
    "class_names = ['T-shirt/top', 'Trouser', 'Pullover', 'Dress', 'Coat',\n",
    "               'Sandal', 'Shirt', 'Sneaker', 'Bag', 'Ankle boot']"
   ]
  },
  {
   "cell_type": "code",
   "execution_count": 9,
   "metadata": {
    "colab": {},
    "colab_type": "code",
    "id": "ZbvxiMlApaQw"
   },
   "outputs": [],
   "source": [
    "\n",
    "\n",
    "input_dim = 784  # 28*28\n",
    "output_dim = nb_classes = 10\n",
    "batch_size = 128\n",
    "nb_epoch = 20\n",
    "\n",
    "X_train = X_train.reshape(60000, input_dim)\n",
    "X_test = X_test.reshape(10000, input_dim)\n",
    "X_train = X_train.astype('float32')\n",
    "X_test = X_test.astype('float32')\n",
    "X_train /= 255\n",
    "X_test /= 255"
   ]
  },
  {
   "cell_type": "code",
   "execution_count": 10,
   "metadata": {
    "colab": {},
    "colab_type": "code",
    "id": "kIPl-tV2qf1E"
   },
   "outputs": [],
   "source": [
    "from tensorflow.keras.utils import to_categorical\n",
    "\n",
    "Y_train = to_categorical(y_train, nb_classes)\n",
    "Y_test = to_categorical(y_test, nb_classes)"
   ]
  },
  {
   "cell_type": "code",
   "execution_count": 11,
   "metadata": {
    "colab": {
     "base_uri": "https://localhost:8080/",
     "height": 34
    },
    "colab_type": "code",
    "executionInfo": {
     "elapsed": 6428,
     "status": "ok",
     "timestamp": 1588973131521,
     "user": {
      "displayName": "Henry Ssembatya",
      "photoUrl": "",
      "userId": "05835713183770896924"
     },
     "user_tz": 420
    },
    "id": "p3VN_juyrgxP",
    "outputId": "a20260ed-46f4-46d3-81ec-fb0b857d2dbd"
   },
   "outputs": [
    {
     "data": {
      "text/plain": [
       "(784,)"
      ]
     },
     "execution_count": 11,
     "metadata": {},
     "output_type": "execute_result"
    }
   ],
   "source": [
    "X_train[0].shape"
   ]
  },
  {
   "cell_type": "code",
   "execution_count": 12,
   "metadata": {
    "colab": {},
    "colab_type": "code",
    "id": "TbG6pjMDR_zq"
   },
   "outputs": [],
   "source": [
    "class_names = ['T-shirt/top', 'Trouser', 'Pullover', 'Dress', 'Coat',\n",
    "               'Sandal', 'Shirt', 'Sneaker', 'Bag', 'Ankle boot']"
   ]
  },
  {
   "cell_type": "code",
   "execution_count": 13,
   "metadata": {
    "colab": {
     "base_uri": "https://localhost:8080/",
     "height": 269
    },
    "colab_type": "code",
    "executionInfo": {
     "elapsed": 6635,
     "status": "ok",
     "timestamp": 1588973131771,
     "user": {
      "displayName": "Henry Ssembatya",
      "photoUrl": "",
      "userId": "05835713183770896924"
     },
     "user_tz": 420
    },
    "id": "x_k5wQe-Wi2A",
    "outputId": "b01f9b15-2dc0-4c27-974f-2af6de6ca0c4"
   },
   "outputs": [
    {
     "data": {
      "image/png": "[encoded data removed]",
      "text/plain": [
       "<Figure size 432x288 with 2 Axes>"
      ]
     },
     "metadata": {
      "needs_background": "light"
     },
     "output_type": "display_data"
    }
   ],
   "source": [
    "plt.figure()\n",
    "plt.imshow(X_train[0].reshape(28,28), cmap=\"gray\")\n",
    "plt.colorbar()\n",
    "plt.grid(False)\n",
    "plt.show()\n"
   ]
  },
  {
   "cell_type": "markdown",
   "metadata": {
    "colab_type": "text",
    "id": "QWsl81fzkSy1"
   },
   "source": [
    "Visualization of the images"
   ]
  },
  {
   "cell_type": "code",
   "execution_count": 14,
   "metadata": {
    "colab": {
     "base_uri": "https://localhost:8080/",
     "height": 589
    },
    "colab_type": "code",
    "executionInfo": {
     "elapsed": 7583,
     "status": "ok",
     "timestamp": 1588973132743,
     "user": {
      "displayName": "Henry Ssembatya",
      "photoUrl": "",
      "userId": "05835713183770896924"
     },
     "user_tz": 420
    },
    "id": "s-JXJzzmHRiE",
    "outputId": "be2fb206-4218-4795-b204-8e3b9843750b"
   },
   "outputs": [
    {
     "data": {
      "image/png": "[encoded data removed]",
      "text/plain": [
       "<Figure size 720x720 with 25 Axes>"
      ]
     },
     "metadata": {},
     "output_type": "display_data"
    }
   ],
   "source": [
    "plt.figure(figsize=(10,10))\n",
    "for i in range(25):\n",
    "    plt.subplot(5,5,i+1)\n",
    "    plt.xticks([])\n",
    "    plt.yticks([])\n",
    "    plt.grid(False)\n",
    "    plt.imshow(X_train[i].reshape(28,28), cmap=plt.cm.binary)\n",
    "    plt.xlabel(class_names[y_train[i]])\n",
    "plt.show()"
   ]
  },
  {
   "cell_type": "markdown",
   "metadata": {
    "colab_type": "text",
    "id": "V6iy1zENZSxP"
   },
   "source": [
    "**<h2>Trying different number of layers</h2>**"
   ]
  },
  {
   "cell_type": "markdown",
   "metadata": {
    "colab_type": "text",
    "id": "-KCDlX1KaYlq"
   },
   "source": [
    "**2 layers**"
   ]
  },
  {
   "cell_type": "code",
   "execution_count": 15,
   "metadata": {
    "colab": {
     "base_uri": "https://localhost:8080/",
     "height": 440
    },
    "colab_type": "code",
    "executionInfo": {
     "elapsed": 131818,
     "status": "ok",
     "timestamp": 1588973257005,
     "user": {
      "displayName": "Henry Ssembatya",
      "photoUrl": "",
      "userId": "05835713183770896924"
     },
     "user_tz": 420
    },
    "id": "N5zBrbiwQVRB",
    "outputId": "ddc445e7-282c-46bf-8c81-44d5237c9a4d"
   },
   "outputs": [
    {
     "name": "stdout",
     "output_type": "stream",
     "text": [
      "Train on 60000 samples\n",
      "Epoch 1/20\n",
      "WARNING:tensorflow:Entity <function Function._initialize_uninitialized_variables.<locals>.initialize_variables at 0x000001948AEEE3A8> could not be transformed and will be executed as-is. Please report this to the AutoGraph team. When filing the bug, set the verbosity to 10 (on Linux, `export AUTOGRAPH_VERBOSITY=10`) and attach the full output. Cause: module 'gast' has no attribute 'Num'\n",
      "WARNING: Entity <function Function._initialize_uninitialized_variables.<locals>.initialize_variables at 0x000001948AEEE3A8> could not be transformed and will be executed as-is. Please report this to the AutoGraph team. When filing the bug, set the verbosity to 10 (on Linux, `export AUTOGRAPH_VERBOSITY=10`) and attach the full output. Cause: module 'gast' has no attribute 'Num'\n",
      "60000/60000 [==============================] - 14s 241us/sample - loss: 0.9770 - accuracy: 0.7031- loss: 1.042\n",
      "Epoch 2/20\n",
      "60000/60000 [==============================] - 9s 155us/sample - loss: 0.6425 - accuracy: 0.7950\n",
      "Epoch 3/20\n",
      "60000/60000 [==============================] - 10s 159us/sample - loss: 0.5689 - accuracy: 0.8148- loss: 0.5700 - accuracy\n",
      "Epoch 4/20\n",
      "60000/60000 [==============================] - 10s 159us/sample - loss: 0.5302 - accuracy: 0.8252\n",
      "Epoch 5/20\n",
      "60000/60000 [==============================] - 10s 166us/sample - loss: 0.5044 - accuracy: 0.8323- loss: 0.5040 - accuracy: \n",
      "Epoch 6/20\n",
      "60000/60000 [==============================] - 11s 175us/sample - loss: 0.4861 - accuracy: 0.8368\n",
      "Epoch 7/20\n",
      "60000/60000 [==============================] - 10s 170us/sample - loss: 0.4718 - accuracy: 0.8412\n",
      "Epoch 8/20\n",
      "60000/60000 [==============================] - 10s 172us/sample - loss: 0.4605 - accuracy: 0.8437\n",
      "Epoch 9/20\n",
      "60000/60000 [==============================] - 10s 173us/sample - loss: 0.4505 - accuracy: 0.8479\n",
      "Epoch 10/20\n",
      "60000/60000 [==============================] - 10s 169us/sample - loss: 0.4421 - accuracy: 0.8501\n",
      "Epoch 11/20\n",
      "60000/60000 [==============================] - 10s 169us/sample - loss: 0.4350 - accuracy: 0.8518\n",
      "Epoch 12/20\n",
      "60000/60000 [==============================] - 11s 176us/sample - loss: 0.4286 - accuracy: 0.8548\n",
      "Epoch 13/20\n",
      "60000/60000 [==============================] - 10s 170us/sample - loss: 0.4232 - accuracy: 0.8553\n",
      "Epoch 14/20\n",
      "60000/60000 [==============================] - 11s 178us/sample - loss: 0.4176 - accuracy: 0.8577\n",
      "Epoch 15/20\n",
      "60000/60000 [==============================] - 11s 179us/sample - loss: 0.4127 - accuracy: 0.8591\n",
      "Epoch 16/20\n",
      "60000/60000 [==============================] - 10s 166us/sample - loss: 0.4081 - accuracy: 0.8602\n",
      "Epoch 17/20\n",
      "60000/60000 [==============================] - 10s 171us/sample - loss: 0.4039 - accuracy: 0.8627\n",
      "Epoch 18/20\n",
      "60000/60000 [==============================] - 10s 171us/sample - loss: 0.4000 - accuracy: 0.8630\n",
      "Epoch 19/20\n",
      "60000/60000 [==============================] - 10s 171us/sample - loss: 0.3963 - accuracy: 0.8644\n",
      "Epoch 20/20\n",
      "60000/60000 [==============================] - 10s 174us/sample - loss: 0.3925 - accuracy: 0.8654- loss: 0.3929 - \n"
     ]
    },
    {
     "data": {
      "text/plain": [
       "<tensorflow.python.keras.callbacks.History at 0x1948aeda348>"
      ]
     },
     "execution_count": 15,
     "metadata": {},
     "output_type": "execute_result"
    }
   ],
   "source": [
    "from tensorflow.keras.layers import Dense\n",
    "\n",
    "model = Sequential()\n",
    "# our first dense layer\n",
    "model.add(Dense(1028, input_shape=(784,), activation=\"relu\"))\n",
    "# last layer is the output layer.\n",
    "model.add(Dense(10, activation=\"softmax\"))\n",
    "\n",
    "model.compile(optimizer='sgd', loss='categorical_crossentropy',\n",
    "              metrics=['accuracy'])\n",
    "\n",
    "# setting verbose=1 prints out some results after each epoch\n",
    "model.fit(X_train, Y_train, batch_size=batch_size, epochs=20, verbose=1)"
   ]
  },
  {
   "cell_type": "code",
   "execution_count": 16,
   "metadata": {
    "colab": {
     "base_uri": "https://localhost:8080/",
     "height": 50
    },
    "colab_type": "code",
    "executionInfo": {
     "elapsed": 132851,
     "status": "ok",
     "timestamp": 1588973258067,
     "user": {
      "displayName": "Henry Ssembatya",
      "photoUrl": "",
      "userId": "05835713183770896924"
     },
     "user_tz": 420
    },
    "id": "7_M2w1blalfc",
    "outputId": "9e90ec44-3470-4ba6-9c4e-d65079bd5b15"
   },
   "outputs": [
    {
     "name": "stdout",
     "output_type": "stream",
     "text": [
      "Test score: 0.4257104769706726\n",
      "Test accuracy: 0.8516\n"
     ]
    }
   ],
   "source": [
    "score = model.evaluate(X_test, Y_test, verbose=0)\n",
    "print('Test score:', score[0])\n",
    "print('Test accuracy:', score[1])"
   ]
  },
  {
   "cell_type": "code",
   "execution_count": null,
   "metadata": {
    "colab": {},
    "colab_type": "code",
    "id": "D97ej9ZgfYUp"
   },
   "outputs": [],
   "source": []
  },
  {
   "cell_type": "markdown",
   "metadata": {
    "colab_type": "text",
    "id": "S2pB35jdfbsj"
   },
   "source": [
    "**3 layers**"
   ]
  },
  {
   "cell_type": "code",
   "execution_count": 17,
   "metadata": {
    "colab": {
     "base_uri": "https://localhost:8080/",
     "height": 440
    },
    "colab_type": "code",
    "executionInfo": {
     "elapsed": 367286,
     "status": "ok",
     "timestamp": 1588973492555,
     "user": {
      "displayName": "Henry Ssembatya",
      "photoUrl": "",
      "userId": "05835713183770896924"
     },
     "user_tz": 420
    },
    "id": "zwHlwJi1fhrR",
    "outputId": "e09826ff-593a-4793-f63a-32fbaaac9213"
   },
   "outputs": [
    {
     "name": "stdout",
     "output_type": "stream",
     "text": [
      "Train on 60000 samples\n",
      "Epoch 1/20\n",
      "WARNING:tensorflow:Entity <function Function._initialize_uninitialized_variables.<locals>.initialize_variables at 0x000001948AD2D3A8> could not be transformed and will be executed as-is. Please report this to the AutoGraph team. When filing the bug, set the verbosity to 10 (on Linux, `export AUTOGRAPH_VERBOSITY=10`) and attach the full output. Cause: module 'gast' has no attribute 'Num'\n",
      "WARNING: Entity <function Function._initialize_uninitialized_variables.<locals>.initialize_variables at 0x000001948AD2D3A8> could not be transformed and will be executed as-is. Please report this to the AutoGraph team. When filing the bug, set the verbosity to 10 (on Linux, `export AUTOGRAPH_VERBOSITY=10`) and attach the full output. Cause: module 'gast' has no attribute 'Num'\n",
      "60000/60000 [==============================] - 19s 311us/sample - loss: 0.9507 - accuracy: 0.7221\n",
      "Epoch 2/20\n",
      "60000/60000 [==============================] - 18s 304us/sample - loss: 0.5907 - accuracy: 0.8096\n",
      "Epoch 3/20\n",
      "60000/60000 [==============================] - 18s 302us/sample - loss: 0.5194 - accuracy: 0.8278\n",
      "Epoch 4/20\n",
      "60000/60000 [==============================] - 19s 317us/sample - loss: 0.4861 - accuracy: 0.8353\n",
      "Epoch 5/20\n",
      "60000/60000 [==============================] - 19s 316us/sample - loss: 0.4627 - accuracy: 0.8415\n",
      "Epoch 6/20\n",
      "60000/60000 [==============================] - 18s 298us/sample - loss: 0.4470 - accuracy: 0.8467\n",
      "Epoch 7/20\n",
      "60000/60000 [==============================] - 18s 303us/sample - loss: 0.4329 - accuracy: 0.8500\n",
      "Epoch 8/20\n",
      "60000/60000 [==============================] - 18s 299us/sample - loss: 0.4229 - accuracy: 0.8532\n",
      "Epoch 9/20\n",
      "60000/60000 [==============================] - 18s 294us/sample - loss: 0.4132 - accuracy: 0.8563\n",
      "Epoch 10/20\n",
      "60000/60000 [==============================] - 18s 302us/sample - loss: 0.4051 - accuracy: 0.8590\n",
      "Epoch 11/20\n",
      "60000/60000 [==============================] - 18s 306us/sample - loss: 0.3995 - accuracy: 0.8613- loss: 0.3992 - accuracy\n",
      "Epoch 12/20\n",
      "60000/60000 [==============================] - 19s 314us/sample - loss: 0.3920 - accuracy: 0.8636\n",
      "Epoch 13/20\n",
      "60000/60000 [==============================] - 18s 301us/sample - loss: 0.3865 - accuracy: 0.8658\n",
      "Epoch 14/20\n",
      "60000/60000 [==============================] - 18s 299us/sample - loss: 0.3802 - accuracy: 0.8667\n",
      "Epoch 15/20\n",
      "60000/60000 [==============================] - 19s 310us/sample - loss: 0.3754 - accuracy: 0.8688\n",
      "Epoch 16/20\n",
      "60000/60000 [==============================] - 18s 297us/sample - loss: 0.3712 - accuracy: 0.8702\n",
      "Epoch 17/20\n",
      "60000/60000 [==============================] - 18s 301us/sample - loss: 0.3657 - accuracy: 0.8719\n",
      "Epoch 18/20\n",
      "60000/60000 [==============================] - 19s 320us/sample - loss: 0.3616 - accuracy: 0.8738\n",
      "Epoch 19/20\n",
      "60000/60000 [==============================] - 18s 299us/sample - loss: 0.3573 - accuracy: 0.8754\n",
      "Epoch 20/20\n",
      "60000/60000 [==============================] - 19s 318us/sample - loss: 0.3531 - accuracy: 0.8761\n"
     ]
    },
    {
     "data": {
      "text/plain": [
       "<tensorflow.python.keras.callbacks.History at 0x1948a7c22c8>"
      ]
     },
     "execution_count": 17,
     "metadata": {},
     "output_type": "execute_result"
    }
   ],
   "source": [
    "model = Sequential()\n",
    "# our first dense layer\n",
    "model.add(Dense(1024, input_shape=(784,), activation=\"relu\"))\n",
    "# our second dense layer\n",
    "model.add(Dense(512, activation=\"relu\"))\n",
    "# last layer is the output layer.\n",
    "model.add(Dense(10, activation=\"softmax\"))\n",
    "\n",
    "model.compile(optimizer='sgd', loss='categorical_crossentropy',\n",
    "              metrics=['accuracy'])\n",
    "\n",
    "# setting verbose=1 prints out some results after each epoch\n",
    "model.fit(X_train, Y_train, batch_size=batch_size, epochs=20, verbose=1)\n"
   ]
  },
  {
   "cell_type": "code",
   "execution_count": 18,
   "metadata": {
    "colab": {
     "base_uri": "https://localhost:8080/",
     "height": 50
    },
    "colab_type": "code",
    "executionInfo": {
     "elapsed": 368851,
     "status": "ok",
     "timestamp": 1588973494130,
     "user": {
      "displayName": "Henry Ssembatya",
      "photoUrl": "",
      "userId": "05835713183770896924"
     },
     "user_tz": 420
    },
    "id": "jO1WMpedgEM_",
    "outputId": "29ea0818-d02b-4219-e592-0094183975c7"
   },
   "outputs": [
    {
     "name": "stdout",
     "output_type": "stream",
     "text": [
      "Test score: 0.3924175757408142\n",
      "Test accuracy: 0.8605\n"
     ]
    }
   ],
   "source": [
    "score = model.evaluate(X_test, Y_test, verbose=0)\n",
    "print('Test score:', score[0])\n",
    "print('Test accuracy:', score[1])"
   ]
  },
  {
   "cell_type": "markdown",
   "metadata": {
    "colab_type": "text",
    "id": "PoVOlph8hOov"
   },
   "source": [
    "**4 layers**"
   ]
  },
  {
   "cell_type": "code",
   "execution_count": 19,
   "metadata": {
    "colab": {
     "base_uri": "https://localhost:8080/",
     "height": 440
    },
    "colab_type": "code",
    "executionInfo": {
     "elapsed": 624534,
     "status": "ok",
     "timestamp": 1588973749837,
     "user": {
      "displayName": "Henry Ssembatya",
      "photoUrl": "",
      "userId": "05835713183770896924"
     },
     "user_tz": 420
    },
    "id": "i5v6rerYhTvw",
    "outputId": "dbad946e-2a0b-45e9-e694-4bfe382bc90c"
   },
   "outputs": [
    {
     "name": "stdout",
     "output_type": "stream",
     "text": [
      "Train on 60000 samples\n",
      "Epoch 1/20\n",
      "WARNING:tensorflow:Entity <function Function._initialize_uninitialized_variables.<locals>.initialize_variables at 0x000001948AF7A4C8> could not be transformed and will be executed as-is. Please report this to the AutoGraph team. When filing the bug, set the verbosity to 10 (on Linux, `export AUTOGRAPH_VERBOSITY=10`) and attach the full output. Cause: module 'gast' has no attribute 'Num'\n",
      "WARNING: Entity <function Function._initialize_uninitialized_variables.<locals>.initialize_variables at 0x000001948AF7A4C8> could not be transformed and will be executed as-is. Please report this to the AutoGraph team. When filing the bug, set the verbosity to 10 (on Linux, `export AUTOGRAPH_VERBOSITY=10`) and attach the full output. Cause: module 'gast' has no attribute 'Num'\n",
      "60000/60000 [==============================] - 22s 369us/sample - loss: 0.9840 - accuracy: 0.6969\n",
      "Epoch 2/20\n",
      "60000/60000 [==============================] - 19s 321us/sample - loss: 0.5814 - accuracy: 0.8058- loss: 0.5\n",
      "Epoch 3/20\n",
      "60000/60000 [==============================] - 20s 334us/sample - loss: 0.5084 - accuracy: 0.8249\n",
      "Epoch 4/20\n",
      "60000/60000 [==============================] - 20s 329us/sample - loss: 0.4743 - accuracy: 0.8356\n",
      "Epoch 5/20\n",
      "60000/60000 [==============================] - 19s 324us/sample - loss: 0.4501 - accuracy: 0.8419\n",
      "Epoch 6/20\n",
      "60000/60000 [==============================] - ETA: 0s - loss: 0.4337 - accuracy: 0.84 - 20s 335us/sample - loss: 0.4335 - accuracy: 0.8487\n",
      "Epoch 7/20\n",
      "60000/60000 [==============================] - 20s 330us/sample - loss: 0.4182 - accuracy: 0.8537\n",
      "Epoch 8/20\n",
      "60000/60000 [==============================] - 19s 321us/sample - loss: 0.4077 - accuracy: 0.8571\n",
      "Epoch 9/20\n",
      "60000/60000 [==============================] - 20s 331us/sample - loss: 0.3970 - accuracy: 0.8608\n",
      "Epoch 10/20\n",
      "60000/60000 [==============================] - 20s 327us/sample - loss: 0.3865 - accuracy: 0.8644\n",
      "Epoch 11/20\n",
      "60000/60000 [==============================] - 19s 323us/sample - loss: 0.3789 - accuracy: 0.8675\n",
      "Epoch 12/20\n",
      "60000/60000 [==============================] - 20s 327us/sample - loss: 0.3729 - accuracy: 0.8689\n",
      "Epoch 13/20\n",
      "60000/60000 [==============================] - 20s 333us/sample - loss: 0.3660 - accuracy: 0.8721\n",
      "Epoch 14/20\n",
      "60000/60000 [==============================] - 20s 327us/sample - loss: 0.3609 - accuracy: 0.8729\n",
      "Epoch 15/20\n",
      "60000/60000 [==============================] - 20s 327us/sample - loss: 0.3539 - accuracy: 0.8755\n",
      "Epoch 16/20\n",
      "60000/60000 [==============================] - 21s 342us/sample - loss: 0.3484 - accuracy: 0.8767\n",
      "Epoch 17/20\n",
      "60000/60000 [==============================] - 19s 324us/sample - loss: 0.3428 - accuracy: 0.8797\n",
      "Epoch 18/20\n",
      "60000/60000 [==============================] - 20s 329us/sample - loss: 0.3383 - accuracy: 0.8798- l\n",
      "Epoch 19/20\n",
      "60000/60000 [==============================] - 19s 321us/sample - loss: 0.3329 - accuracy: 0.8818\n",
      "Epoch 20/20\n",
      "60000/60000 [==============================] - 19s 320us/sample - loss: 0.3275 - accuracy: 0.8836\n"
     ]
    },
    {
     "data": {
      "text/plain": [
       "<tensorflow.python.keras.callbacks.History at 0x1948b0a6d48>"
      ]
     },
     "execution_count": 19,
     "metadata": {},
     "output_type": "execute_result"
    }
   ],
   "source": [
    "model = Sequential()\n",
    "# our first dense layer\n",
    "model.add(Dense(1024, input_shape=(784,), activation=\"relu\"))\n",
    "# our second dense layer\n",
    "model.add(Dense(512, activation=\"relu\"))\n",
    "# our third dense layer\n",
    "model.add(Dense(256, activation=\"relu\"))\n",
    "# last layer is the output layer.\n",
    "model.add(Dense(10, activation=\"softmax\"))\n",
    "\n",
    "model.compile(optimizer='sgd', loss='categorical_crossentropy',\n",
    "              metrics=['accuracy'])\n",
    "\n",
    "# setting verbose=1 prints out some results after each epoch\n",
    "model.fit(X_train, Y_train, batch_size=batch_size, epochs=20, verbose=1)"
   ]
  },
  {
   "cell_type": "code",
   "execution_count": 20,
   "metadata": {
    "colab": {
     "base_uri": "https://localhost:8080/",
     "height": 50
    },
    "colab_type": "code",
    "executionInfo": {
     "elapsed": 626332,
     "status": "ok",
     "timestamp": 1588973751647,
     "user": {
      "displayName": "Henry Ssembatya",
      "photoUrl": "",
      "userId": "05835713183770896924"
     },
     "user_tz": 420
    },
    "id": "oNuc-wkSh1jT",
    "outputId": "ed1b609b-dea6-4f67-bbd8-f3cec33965ae"
   },
   "outputs": [
    {
     "name": "stdout",
     "output_type": "stream",
     "text": [
      "Test score: 0.38921296634674074\n",
      "Test accuracy: 0.8607\n"
     ]
    }
   ],
   "source": [
    "score = model.evaluate(X_test, Y_test, verbose=0)\n",
    "print('Test score:', score[0])\n",
    "print('Test accuracy:', score[1])"
   ]
  },
  {
   "cell_type": "markdown",
   "metadata": {
    "colab_type": "text",
    "id": "2OtzqqPJh2sD"
   },
   "source": [
    "<b>Comparison</b>\n",
    "<p>Based purely on the test accuracy,the model with 3 layers performed best. However , comparing the performance on the training and test set, the model with 2 layers performed best</p>"
   ]
  },
  {
   "cell_type": "markdown",
   "metadata": {
    "colab_type": "text",
    "id": "x0eLi40xkiqY"
   },
   "source": [
    "**<h2>Trying different activation functions</h2>**"
   ]
  },
  {
   "cell_type": "code",
   "execution_count": null,
   "metadata": {
    "colab": {},
    "colab_type": "code",
    "id": "MIDlmK1KknJL"
   },
   "outputs": [],
   "source": []
  },
  {
   "cell_type": "markdown",
   "metadata": {
    "colab_type": "text",
    "id": "JdTl1y4oNoVW"
   },
   "source": [
    "**activation function=tanh**"
   ]
  },
  {
   "cell_type": "code",
   "execution_count": 21,
   "metadata": {
    "colab": {
     "base_uri": "https://localhost:8080/",
     "height": 440
    },
    "colab_type": "code",
    "executionInfo": {
     "elapsed": 257906,
     "status": "ok",
     "timestamp": 1588974057578,
     "user": {
      "displayName": "Henry Ssembatya",
      "photoUrl": "",
      "userId": "05835713183770896924"
     },
     "user_tz": 420
    },
    "id": "s0l_wMThN3zO",
    "outputId": "734491f4-b874-4c12-845a-0d69da9fd973"
   },
   "outputs": [
    {
     "name": "stdout",
     "output_type": "stream",
     "text": [
      "Train on 60000 samples\n",
      "Epoch 1/20\n",
      "WARNING:tensorflow:Entity <function Function._initialize_uninitialized_variables.<locals>.initialize_variables at 0x0000019497C68AF8> could not be transformed and will be executed as-is. Please report this to the AutoGraph team. When filing the bug, set the verbosity to 10 (on Linux, `export AUTOGRAPH_VERBOSITY=10`) and attach the full output. Cause: module 'gast' has no attribute 'Num'\n",
      "WARNING: Entity <function Function._initialize_uninitialized_variables.<locals>.initialize_variables at 0x0000019497C68AF8> could not be transformed and will be executed as-is. Please report this to the AutoGraph team. When filing the bug, set the verbosity to 10 (on Linux, `export AUTOGRAPH_VERBOSITY=10`) and attach the full output. Cause: module 'gast' has no attribute 'Num'\n",
      "60000/60000 [==============================] - 21s 351us/sample - loss: 0.7626 - accuracy: 0.7526\n",
      "Epoch 2/20\n",
      "60000/60000 [==============================] - 20s 332us/sample - loss: 0.5215 - accuracy: 0.8219\n",
      "Epoch 3/20\n",
      "60000/60000 [==============================] - 19s 323us/sample - loss: 0.4733 - accuracy: 0.8351\n",
      "Epoch 4/20\n",
      "60000/60000 [==============================] - 20s 326us/sample - loss: 0.4482 - accuracy: 0.8413\n",
      "Epoch 5/20\n",
      "60000/60000 [==============================] - 20s 331us/sample - loss: 0.4310 - accuracy: 0.8483\n",
      "Epoch 6/20\n",
      "60000/60000 [==============================] - 20s 331us/sample - loss: 0.4187 - accuracy: 0.8523\n",
      "Epoch 7/20\n",
      "60000/60000 [==============================] - 20s 334us/sample - loss: 0.4088 - accuracy: 0.8553\n",
      "Epoch 8/20\n",
      "60000/60000 [==============================] - 20s 327us/sample - loss: 0.4005 - accuracy: 0.8575\n",
      "Epoch 9/20\n",
      "60000/60000 [==============================] - 20s 330us/sample - loss: 0.3919 - accuracy: 0.8600\n",
      "Epoch 10/20\n",
      "60000/60000 [==============================] - 21s 350us/sample - loss: 0.3863 - accuracy: 0.8630\n",
      "Epoch 11/20\n",
      "60000/60000 [==============================] - 20s 329us/sample - loss: 0.3805 - accuracy: 0.8646\n",
      "Epoch 12/20\n",
      "60000/60000 [==============================] - 19s 323us/sample - loss: 0.3754 - accuracy: 0.8670\n",
      "Epoch 13/20\n",
      "60000/60000 [==============================] - 21s 342us/sample - loss: 0.3703 - accuracy: 0.8681\n",
      "Epoch 14/20\n",
      "60000/60000 [==============================] - 20s 327us/sample - loss: 0.3660 - accuracy: 0.8700\n",
      "Epoch 15/20\n",
      "60000/60000 [==============================] - 19s 322us/sample - loss: 0.3611 - accuracy: 0.8707\n",
      "Epoch 16/20\n",
      "60000/60000 [==============================] - 20s 332us/sample - loss: 0.3579 - accuracy: 0.8723\n",
      "Epoch 17/20\n",
      "60000/60000 [==============================] - 20s 327us/sample - loss: 0.3541 - accuracy: 0.8730\n",
      "Epoch 18/20\n",
      "60000/60000 [==============================] - 19s 323us/sample - loss: 0.3504 - accuracy: 0.8741\n",
      "Epoch 19/20\n",
      "60000/60000 [==============================] - 20s 330us/sample - loss: 0.3469 - accuracy: 0.8760\n",
      "Epoch 20/20\n",
      "60000/60000 [==============================] - 20s 328us/sample - loss: 0.3434 - accuracy: 0.8771\n"
     ]
    },
    {
     "data": {
      "text/plain": [
       "<tensorflow.python.keras.callbacks.History at 0x19497c85348>"
      ]
     },
     "execution_count": 21,
     "metadata": {},
     "output_type": "execute_result"
    }
   ],
   "source": [
    "model = Sequential()\n",
    "# our first dense layer\n",
    "model.add(Dense(1024, input_shape=(784,), activation=\"tanh\"))\n",
    "# our second dense layer\n",
    "model.add(Dense(512, activation=\"tanh\"))\n",
    "# our third dense layer\n",
    "model.add(Dense(256, activation=\"tanh\"))\n",
    "# last layer is the output layer.\n",
    "model.add(Dense(10, activation=\"softmax\"))\n",
    "\n",
    "model.compile(optimizer='sgd', loss='categorical_crossentropy',\n",
    "              metrics=['accuracy'])\n",
    "\n",
    "# setting verbose=1 prints out some results after each epoch\n",
    "model.fit(X_train, Y_train, batch_size=batch_size, epochs=20, verbose=1)"
   ]
  },
  {
   "cell_type": "code",
   "execution_count": 22,
   "metadata": {
    "colab": {
     "base_uri": "https://localhost:8080/",
     "height": 50
    },
    "colab_type": "code",
    "executionInfo": {
     "elapsed": 2360,
     "status": "ok",
     "timestamp": 1588974059966,
     "user": {
      "displayName": "Henry Ssembatya",
      "photoUrl": "",
      "userId": "05835713183770896924"
     },
     "user_tz": 420
    },
    "id": "Q4IviBSVOAgh",
    "outputId": "19e500de-ba69-4088-8a24-29097883c15a"
   },
   "outputs": [
    {
     "name": "stdout",
     "output_type": "stream",
     "text": [
      "Test score: 0.3935245877981186\n",
      "Test accuracy: 0.8588\n"
     ]
    }
   ],
   "source": [
    "score = model.evaluate(X_test, Y_test, verbose=0)\n",
    "print('Test score:', score[0])\n",
    "print('Test accuracy:', score[1])"
   ]
  },
  {
   "cell_type": "markdown",
   "metadata": {
    "colab_type": "text",
    "id": "O7KXQRcXOTVd"
   },
   "source": [
    "**activation function=sigmoid**"
   ]
  },
  {
   "cell_type": "code",
   "execution_count": 23,
   "metadata": {
    "colab": {
     "base_uri": "https://localhost:8080/",
     "height": 440
    },
    "colab_type": "code",
    "executionInfo": {
     "elapsed": 249038,
     "status": "ok",
     "timestamp": 1588974572633,
     "user": {
      "displayName": "Henry Ssembatya",
      "photoUrl": "",
      "userId": "05835713183770896924"
     },
     "user_tz": 420
    },
    "id": "Hh59yTrnOb_W",
    "outputId": "232d4a32-25b1-4dbb-89a5-9e54b2640df4"
   },
   "outputs": [
    {
     "name": "stdout",
     "output_type": "stream",
     "text": [
      "Train on 60000 samples\n",
      "Epoch 1/20\n",
      "WARNING:tensorflow:Entity <function Function._initialize_uninitialized_variables.<locals>.initialize_variables at 0x00000194986B2558> could not be transformed and will be executed as-is. Please report this to the AutoGraph team. When filing the bug, set the verbosity to 10 (on Linux, `export AUTOGRAPH_VERBOSITY=10`) and attach the full output. Cause: module 'gast' has no attribute 'Num'\n",
      "WARNING: Entity <function Function._initialize_uninitialized_variables.<locals>.initialize_variables at 0x00000194986B2558> could not be transformed and will be executed as-is. Please report this to the AutoGraph team. When filing the bug, set the verbosity to 10 (on Linux, `export AUTOGRAPH_VERBOSITY=10`) and attach the full output. Cause: module 'gast' has no attribute 'Num'\n",
      "60000/60000 [==============================] - 21s 345us/sample - loss: 2.2983 - accuracy: 0.1350\n",
      "Epoch 2/20\n",
      "60000/60000 [==============================] - 20s 329us/sample - loss: 2.2748 - accuracy: 0.2113\n",
      "Epoch 3/20\n",
      "60000/60000 [==============================] - 20s 340us/sample - loss: 2.2471 - accuracy: 0.3034- loss: 2.2477 - accuracy: 0. - ETA: 0s - loss: 2.2476 - ac\n",
      "Epoch 4/20\n",
      "60000/60000 [==============================] - 19s 322us/sample - loss: 2.2017 - accuracy: 0.3947\n",
      "Epoch 5/20\n",
      "60000/60000 [==============================] - 20s 336us/sample - loss: 2.1160 - accuracy: 0.4376\n",
      "Epoch 6/20\n",
      "60000/60000 [==============================] - 20s 334us/sample - loss: 1.9581 - accuracy: 0.4699\n",
      "Epoch 7/20\n",
      "60000/60000 [==============================] - 19s 324us/sample - loss: 1.7528 - accuracy: 0.4975\n",
      "Epoch 8/20\n",
      "60000/60000 [==============================] - 20s 332us/sample - loss: 1.5749 - accuracy: 0.5199\n",
      "Epoch 9/20\n",
      "60000/60000 [==============================] - 20s 330us/sample - loss: 1.4272 - accuracy: 0.5430\n",
      "Epoch 10/20\n",
      "60000/60000 [==============================] - 20s 325us/sample - loss: 1.3057 - accuracy: 0.5667\n",
      "Epoch 11/20\n",
      "60000/60000 [==============================] - 20s 330us/sample - loss: 1.2141 - accuracy: 0.5858\n",
      "Epoch 12/20\n",
      "60000/60000 [==============================] - 20s 341us/sample - loss: 1.1464 - accuracy: 0.6005\n",
      "Epoch 13/20\n",
      "60000/60000 [==============================] - 20s 326us/sample - loss: 1.0947 - accuracy: 0.6122\n",
      "Epoch 14/20\n",
      "60000/60000 [==============================] - 20s 330us/sample - loss: 1.0528 - accuracy: 0.6246\n",
      "Epoch 15/20\n",
      "60000/60000 [==============================] - 20s 327us/sample - loss: 1.0171 - accuracy: 0.6330- loss: 1.0170 - accuracy\n",
      "Epoch 16/20\n",
      "60000/60000 [==============================] - 20s 325us/sample - loss: 0.9860 - accuracy: 0.6429\n",
      "Epoch 17/20\n",
      "60000/60000 [==============================] - 20s 336us/sample - loss: 0.9582 - accuracy: 0.6493\n",
      "Epoch 18/20\n",
      "60000/60000 [==============================] - 20s 333us/sample - loss: 0.9330 - accuracy: 0.6584\n",
      "Epoch 19/20\n",
      "60000/60000 [==============================] - 20s 339us/sample - loss: 0.9103 - accuracy: 0.6658\n",
      "Epoch 20/20\n",
      "60000/60000 [==============================] - 20s 331us/sample - loss: 0.8892 - accuracy: 0.6713- loss: 0.8896 - accu\n"
     ]
    },
    {
     "data": {
      "text/plain": [
       "<tensorflow.python.keras.callbacks.History at 0x19485702808>"
      ]
     },
     "execution_count": 23,
     "metadata": {},
     "output_type": "execute_result"
    }
   ],
   "source": [
    "model = Sequential()\n",
    "# our first dense layer\n",
    "model.add(Dense(1024, input_shape=(784,), activation=\"sigmoid\"))\n",
    "# our second dense layer\n",
    "model.add(Dense(512, activation=\"sigmoid\"))\n",
    "# our third dense layer\n",
    "model.add(Dense(256, activation=\"sigmoid\"))\n",
    "# last layer is the output layer.\n",
    "model.add(Dense(10, activation=\"softmax\"))\n",
    "\n",
    "model.compile(optimizer='sgd', loss='categorical_crossentropy',\n",
    "              metrics=['accuracy'])\n",
    "\n",
    "# setting verbose=1 prints out some results after each epoch\n",
    "model.fit(X_train, Y_train, batch_size=batch_size, epochs=20, verbose=1)"
   ]
  },
  {
   "cell_type": "code",
   "execution_count": 24,
   "metadata": {
    "colab": {
     "base_uri": "https://localhost:8080/",
     "height": 50
    },
    "colab_type": "code",
    "executionInfo": {
     "elapsed": 2189,
     "status": "ok",
     "timestamp": 1588974574864,
     "user": {
      "displayName": "Henry Ssembatya",
      "photoUrl": "",
      "userId": "05835713183770896924"
     },
     "user_tz": 420
    },
    "id": "smC7nchsOiT3",
    "outputId": "13a758c1-3c84-4357-b1ef-965d75998b1b"
   },
   "outputs": [
    {
     "name": "stdout",
     "output_type": "stream",
     "text": [
      "Test score: 0.8868276880264282\n",
      "Test accuracy: 0.678\n"
     ]
    }
   ],
   "source": [
    "score = model.evaluate(X_test, Y_test, verbose=0)\n",
    "print('Test score:', score[0])\n",
    "print('Test accuracy:', score[1])"
   ]
  },
  {
   "cell_type": "markdown",
   "metadata": {
    "colab_type": "text",
    "id": "8hGOOikZOnl4"
   },
   "source": [
    "**activation function=relu**"
   ]
  },
  {
   "cell_type": "code",
   "execution_count": 25,
   "metadata": {
    "colab": {
     "base_uri": "https://localhost:8080/",
     "height": 440
    },
    "colab_type": "code",
    "executionInfo": {
     "elapsed": 250718,
     "status": "ok",
     "timestamp": 1588974823438,
     "user": {
      "displayName": "Henry Ssembatya",
      "photoUrl": "",
      "userId": "05835713183770896924"
     },
     "user_tz": 420
    },
    "id": "G_OTZ8_jOp2b",
    "outputId": "cee38209-5f8d-41f9-a9a1-e83a25e68311"
   },
   "outputs": [
    {
     "name": "stdout",
     "output_type": "stream",
     "text": [
      "Train on 60000 samples\n",
      "Epoch 1/20\n",
      "WARNING:tensorflow:Entity <function Function._initialize_uninitialized_variables.<locals>.initialize_variables at 0x000001949962A798> could not be transformed and will be executed as-is. Please report this to the AutoGraph team. When filing the bug, set the verbosity to 10 (on Linux, `export AUTOGRAPH_VERBOSITY=10`) and attach the full output. Cause: module 'gast' has no attribute 'Num'\n",
      "WARNING: Entity <function Function._initialize_uninitialized_variables.<locals>.initialize_variables at 0x000001949962A798> could not be transformed and will be executed as-is. Please report this to the AutoGraph team. When filing the bug, set the verbosity to 10 (on Linux, `export AUTOGRAPH_VERBOSITY=10`) and attach the full output. Cause: module 'gast' has no attribute 'Num'\n",
      "60000/60000 [==============================] - 21s 346us/sample - loss: 0.9657 - accuracy: 0.7080\n",
      "Epoch 2/20\n",
      "60000/60000 [==============================] - 19s 325us/sample - loss: 0.5790 - accuracy: 0.8067\n",
      "Epoch 3/20\n",
      "60000/60000 [==============================] - 20s 329us/sample - loss: 0.5096 - accuracy: 0.8251\n",
      "Epoch 4/20\n",
      "60000/60000 [==============================] - 20s 329us/sample - loss: 0.4739 - accuracy: 0.8364\n",
      "Epoch 5/20\n",
      "60000/60000 [==============================] - 20s 333us/sample - loss: 0.4505 - accuracy: 0.8431\n",
      "Epoch 6/20\n",
      "60000/60000 [==============================] - 20s 327us/sample - loss: 0.4329 - accuracy: 0.8497\n",
      "Epoch 7/20\n",
      "60000/60000 [==============================] - 20s 333us/sample - loss: 0.4198 - accuracy: 0.8540\n",
      "Epoch 8/20\n",
      "60000/60000 [==============================] - 19s 320us/sample - loss: 0.4071 - accuracy: 0.8581\n",
      "Epoch 9/20\n",
      "60000/60000 [==============================] - 20s 328us/sample - loss: 0.3978 - accuracy: 0.8617- loss: 0.3978 \n",
      "Epoch 10/20\n",
      "60000/60000 [==============================] - 20s 330us/sample - loss: 0.3891 - accuracy: 0.8637\n",
      "Epoch 11/20\n",
      "60000/60000 [==============================] - 19s 320us/sample - loss: 0.3785 - accuracy: 0.8682\n",
      "Epoch 12/20\n",
      "60000/60000 [==============================] - 20s 334us/sample - loss: 0.3722 - accuracy: 0.8699\n",
      "Epoch 13/20\n",
      "60000/60000 [==============================] - 19s 323us/sample - loss: 0.3657 - accuracy: 0.8722\n",
      "Epoch 14/20\n",
      "60000/60000 [==============================] - 19s 318us/sample - loss: 0.3594 - accuracy: 0.8745\n",
      "Epoch 15/20\n",
      "60000/60000 [==============================] - 20s 340us/sample - loss: 0.3535 - accuracy: 0.8753\n",
      "Epoch 16/20\n",
      "60000/60000 [==============================] - 20s 327us/sample - loss: 0.3497 - accuracy: 0.8777\n",
      "Epoch 17/20\n",
      "60000/60000 [==============================] - 19s 319us/sample - loss: 0.3437 - accuracy: 0.8788- loss: 0.3441 - accu\n",
      "Epoch 18/20\n",
      "60000/60000 [==============================] - 20s 331us/sample - loss: 0.3363 - accuracy: 0.8812\n",
      "Epoch 19/20\n",
      "60000/60000 [==============================] - 20s 327us/sample - loss: 0.3318 - accuracy: 0.8829\n",
      "Epoch 20/20\n",
      "60000/60000 [==============================] - 19s 321us/sample - loss: 0.3274 - accuracy: 0.8846\n"
     ]
    },
    {
     "data": {
      "text/plain": [
       "<tensorflow.python.keras.callbacks.History at 0x194995056c8>"
      ]
     },
     "execution_count": 25,
     "metadata": {},
     "output_type": "execute_result"
    }
   ],
   "source": [
    "model = Sequential()\n",
    "# our first dense layer\n",
    "model.add(Dense(1024, input_shape=(784,), activation=\"relu\"))\n",
    "# our second dense layer\n",
    "model.add(Dense(512, activation=\"relu\"))\n",
    "# our third dense layer\n",
    "model.add(Dense(256, activation=\"relu\"))\n",
    "# last layer is the output layer.\n",
    "model.add(Dense(10, activation=\"softmax\"))\n",
    "\n",
    "model.compile(optimizer='sgd', loss='categorical_crossentropy',\n",
    "              metrics=['accuracy'])\n",
    "\n",
    "# setting verbose=1 prints out some results after each epoch\n",
    "model.fit(X_train, Y_train, batch_size=batch_size, epochs=20, verbose=1)"
   ]
  },
  {
   "cell_type": "code",
   "execution_count": 26,
   "metadata": {
    "colab": {
     "base_uri": "https://localhost:8080/",
     "height": 50
    },
    "colab_type": "code",
    "executionInfo": {
     "elapsed": 252276,
     "status": "ok",
     "timestamp": 1588974825019,
     "user": {
      "displayName": "Henry Ssembatya",
      "photoUrl": "",
      "userId": "05835713183770896924"
     },
     "user_tz": 420
    },
    "id": "SnF5KUZIOvZv",
    "outputId": "6c657d17-3960-4ea7-ec56-45a147b87265"
   },
   "outputs": [
    {
     "name": "stdout",
     "output_type": "stream",
     "text": [
      "Test score: 0.3826176045179367\n",
      "Test accuracy: 0.8613\n"
     ]
    }
   ],
   "source": [
    "score = model.evaluate(X_test, Y_test, verbose=0)\n",
    "print('Test score:', score[0])\n",
    "print('Test accuracy:', score[1])"
   ]
  },
  {
   "cell_type": "markdown",
   "metadata": {
    "colab_type": "text",
    "id": "sMrUq1zcRWj1"
   },
   "source": [
    "<b>Comparison</b>\n",
    "<p>Relu activation function seemed to perform best. The second best performer was tanh and sigmoid was the third. The sigmoid has a high performance on the test set but a low performance on the training.</p>"
   ]
  },
  {
   "cell_type": "markdown",
   "metadata": {
    "colab_type": "text",
    "id": "GA-IHuKxRdB0"
   },
   "source": [
    "**<h2>Trying different number of neurons</h2>**"
   ]
  },
  {
   "cell_type": "markdown",
   "metadata": {
    "colab_type": "text",
    "id": "JE5hCJmgS6VV"
   },
   "source": [
    " **neurons =1024,512,256,10**"
   ]
  },
  {
   "cell_type": "code",
   "execution_count": 27,
   "metadata": {
    "colab": {
     "base_uri": "https://localhost:8080/",
     "height": 440
    },
    "colab_type": "code",
    "executionInfo": {
     "elapsed": 243345,
     "status": "ok",
     "timestamp": 1588975403461,
     "user": {
      "displayName": "Henry Ssembatya",
      "photoUrl": "",
      "userId": "05835713183770896924"
     },
     "user_tz": 420
    },
    "id": "uaYnY_m5THWx",
    "outputId": "74e8dc8c-3ff5-4c9c-939b-dd8ca9476bcc"
   },
   "outputs": [
    {
     "name": "stdout",
     "output_type": "stream",
     "text": [
      "Train on 60000 samples\n",
      "Epoch 1/20\n",
      "WARNING:tensorflow:Entity <function Function._initialize_uninitialized_variables.<locals>.initialize_variables at 0x000001949A346828> could not be transformed and will be executed as-is. Please report this to the AutoGraph team. When filing the bug, set the verbosity to 10 (on Linux, `export AUTOGRAPH_VERBOSITY=10`) and attach the full output. Cause: module 'gast' has no attribute 'Num'\n",
      "WARNING: Entity <function Function._initialize_uninitialized_variables.<locals>.initialize_variables at 0x000001949A346828> could not be transformed and will be executed as-is. Please report this to the AutoGraph team. When filing the bug, set the verbosity to 10 (on Linux, `export AUTOGRAPH_VERBOSITY=10`) and attach the full output. Cause: module 'gast' has no attribute 'Num'\n",
      "60000/60000 [==============================] - 21s 349us/sample - loss: 0.9412 - accuracy: 0.7149\n",
      "Epoch 2/20\n",
      "60000/60000 [==============================] - 20s 339us/sample - loss: 0.5637 - accuracy: 0.8109\n",
      "Epoch 3/20\n",
      "60000/60000 [==============================] - 20s 333us/sample - loss: 0.4989 - accuracy: 0.8282\n",
      "Epoch 4/20\n",
      "60000/60000 [==============================] - 20s 337us/sample - loss: 0.4678 - accuracy: 0.8375\n",
      "Epoch 5/20\n",
      "60000/60000 [==============================] - 20s 334us/sample - loss: 0.4473 - accuracy: 0.8443\n",
      "Epoch 6/20\n",
      "60000/60000 [==============================] - 19s 325us/sample - loss: 0.4290 - accuracy: 0.8507\n",
      "Epoch 7/20\n",
      "60000/60000 [==============================] - 20s 339us/sample - loss: 0.4144 - accuracy: 0.8558\n",
      "Epoch 8/20\n",
      "60000/60000 [==============================] - 20s 334us/sample - loss: 0.4038 - accuracy: 0.8594\n",
      "Epoch 9/20\n",
      "60000/60000 [==============================] - 20s 327us/sample - loss: 0.3932 - accuracy: 0.8632\n",
      "Epoch 10/20\n",
      "60000/60000 [==============================] - 21s 342us/sample - loss: 0.3864 - accuracy: 0.8651\n",
      "Epoch 11/20\n",
      "60000/60000 [==============================] - 21s 345us/sample - loss: 0.3768 - accuracy: 0.8687\n",
      "Epoch 12/20\n",
      "60000/60000 [==============================] - 20s 334us/sample - loss: 0.3714 - accuracy: 0.8698- loss: 0.3717 - accuracy\n",
      "Epoch 13/20\n",
      "60000/60000 [==============================] - 20s 325us/sample - loss: 0.3635 - accuracy: 0.8727\n",
      "Epoch 14/20\n",
      "60000/60000 [==============================] - 20s 336us/sample - loss: 0.3569 - accuracy: 0.8745\n",
      "Epoch 15/20\n",
      "60000/60000 [==============================] - 21s 350us/sample - loss: 0.3512 - accuracy: 0.8762\n",
      "Epoch 16/20\n",
      "60000/60000 [==============================] - 20s 333us/sample - loss: 0.3462 - accuracy: 0.8785\n",
      "Epoch 17/20\n",
      "60000/60000 [==============================] - 20s 330us/sample - loss: 0.3403 - accuracy: 0.8806- l\n",
      "Epoch 18/20\n",
      "60000/60000 [==============================] - 19s 320us/sample - loss: 0.3369 - accuracy: 0.8809\n",
      "Epoch 19/20\n",
      "60000/60000 [==============================] - 19s 323us/sample - loss: 0.3311 - accuracy: 0.8820\n",
      "Epoch 20/20\n",
      "60000/60000 [==============================] - 20s 329us/sample - loss: 0.3261 - accuracy: 0.8841\n"
     ]
    },
    {
     "data": {
      "text/plain": [
       "<tensorflow.python.keras.callbacks.History at 0x1949a360548>"
      ]
     },
     "execution_count": 27,
     "metadata": {},
     "output_type": "execute_result"
    }
   ],
   "source": [
    "model = Sequential()\n",
    "# our first dense layer\n",
    "model.add(Dense(1024, input_shape=(784,), activation=\"relu\"))\n",
    "# our second dense layer\n",
    "model.add(Dense(512, activation=\"relu\"))\n",
    "# our third dense layer\n",
    "model.add(Dense(256, activation=\"relu\"))\n",
    "# last layer is the output layer.\n",
    "model.add(Dense(10, activation=\"softmax\"))\n",
    "\n",
    "model.compile(optimizer='sgd', loss='categorical_crossentropy',\n",
    "              metrics=['accuracy'])\n",
    "\n",
    "# setting verbose=1 prints out some results after each epoch\n",
    "model.fit(X_train, Y_train, batch_size=batch_size, epochs=20, verbose=1)"
   ]
  },
  {
   "cell_type": "code",
   "execution_count": 28,
   "metadata": {
    "colab": {
     "base_uri": "https://localhost:8080/",
     "height": 50
    },
    "colab_type": "code",
    "executionInfo": {
     "elapsed": 1951,
     "status": "ok",
     "timestamp": 1588975405426,
     "user": {
      "displayName": "Henry Ssembatya",
      "photoUrl": "",
      "userId": "05835713183770896924"
     },
     "user_tz": 420
    },
    "id": "u1bt2-saTMqF",
    "outputId": "5aa8d8c6-317b-46fd-d65f-0a3a36e2f874"
   },
   "outputs": [
    {
     "name": "stdout",
     "output_type": "stream",
     "text": [
      "Test score: 0.3732243008136749\n",
      "Test accuracy: 0.8646\n"
     ]
    }
   ],
   "source": [
    "score = model.evaluate(X_test, Y_test, verbose=0)\n",
    "print('Test score:', score[0])\n",
    "print('Test accuracy:', score[1])"
   ]
  },
  {
   "cell_type": "markdown",
   "metadata": {
    "colab_type": "text",
    "id": "y6RCYF0PTTQv"
   },
   "source": [
    " **neurons =512,256,128,10**"
   ]
  },
  {
   "cell_type": "code",
   "execution_count": 29,
   "metadata": {
    "colab": {
     "base_uri": "https://localhost:8080/",
     "height": 440
    },
    "colab_type": "code",
    "executionInfo": {
     "elapsed": 102255,
     "status": "ok",
     "timestamp": 1588975505752,
     "user": {
      "displayName": "Henry Ssembatya",
      "photoUrl": "",
      "userId": "05835713183770896924"
     },
     "user_tz": 420
    },
    "id": "1hrwKyyZTYiw",
    "outputId": "a108bfb3-2c19-4ae8-e98b-6b0881eae140"
   },
   "outputs": [
    {
     "name": "stdout",
     "output_type": "stream",
     "text": [
      "Train on 60000 samples\n",
      "Epoch 1/20\n",
      "WARNING:tensorflow:Entity <function Function._initialize_uninitialized_variables.<locals>.initialize_variables at 0x000001949BFF6828> could not be transformed and will be executed as-is. Please report this to the AutoGraph team. When filing the bug, set the verbosity to 10 (on Linux, `export AUTOGRAPH_VERBOSITY=10`) and attach the full output. Cause: module 'gast' has no attribute 'Num'\n",
      "WARNING: Entity <function Function._initialize_uninitialized_variables.<locals>.initialize_variables at 0x000001949BFF6828> could not be transformed and will be executed as-is. Please report this to the AutoGraph team. When filing the bug, set the verbosity to 10 (on Linux, `export AUTOGRAPH_VERBOSITY=10`) and attach the full output. Cause: module 'gast' has no attribute 'Num'\n",
      "60000/60000 [==============================] - 9s 157us/sample - loss: 1.0109 - accuracy: 0.6910\n",
      "Epoch 2/20\n",
      "60000/60000 [==============================] - 9s 144us/sample - loss: 0.5845 - accuracy: 0.8041\n",
      "Epoch 3/20\n",
      "60000/60000 [==============================] - 9s 148us/sample - loss: 0.5133 - accuracy: 0.8219\n",
      "Epoch 4/20\n",
      "60000/60000 [==============================] - 8s 140us/sample - loss: 0.4823 - accuracy: 0.8316\n",
      "Epoch 5/20\n",
      "60000/60000 [==============================] - 9s 144us/sample - loss: 0.4583 - accuracy: 0.8405\n",
      "Epoch 6/20\n",
      "60000/60000 [==============================] - 9s 143us/sample - loss: 0.4402 - accuracy: 0.8469\n",
      "Epoch 7/20\n",
      "60000/60000 [==============================] - 8s 140us/sample - loss: 0.4241 - accuracy: 0.8519\n",
      "Epoch 8/20\n",
      "60000/60000 [==============================] - 8s 139us/sample - loss: 0.4154 - accuracy: 0.8560\n",
      "Epoch 9/20\n",
      "60000/60000 [==============================] - 9s 142us/sample - loss: 0.4048 - accuracy: 0.8583\n",
      "Epoch 10/20\n",
      "60000/60000 [==============================] - 8s 141us/sample - loss: 0.3953 - accuracy: 0.8610\n",
      "Epoch 11/20\n",
      "60000/60000 [==============================] - 8s 139us/sample - loss: 0.3876 - accuracy: 0.8647\n",
      "Epoch 12/20\n",
      "60000/60000 [==============================] - 8s 138us/sample - loss: 0.3803 - accuracy: 0.8666\n",
      "Epoch 13/20\n",
      "60000/60000 [==============================] - 9s 144us/sample - loss: 0.3733 - accuracy: 0.8688\n",
      "Epoch 14/20\n",
      "60000/60000 [==============================] - 8s 141us/sample - loss: 0.3676 - accuracy: 0.8714\n",
      "Epoch 15/20\n",
      "60000/60000 [==============================] - 9s 155us/sample - loss: 0.3612 - accuracy: 0.8739\n",
      "Epoch 16/20\n",
      "60000/60000 [==============================] - 10s 164us/sample - loss: 0.3562 - accuracy: 0.8745- l\n",
      "Epoch 17/20\n",
      "60000/60000 [==============================] - 9s 154us/sample - loss: 0.3507 - accuracy: 0.8765 - loss: 0.3502 - accuracy: 0.87 - ETA: 0s - loss: 0\n",
      "Epoch 18/20\n",
      "60000/60000 [==============================] - 9s 145us/sample - loss: 0.3448 - accuracy: 0.8781\n",
      "Epoch 19/20\n",
      "60000/60000 [==============================] - 9s 153us/sample - loss: 0.3392 - accuracy: 0.8802\n",
      "Epoch 20/20\n",
      "60000/60000 [==============================] - 9s 157us/sample - loss: 0.3364 - accuracy: 0.8813\n"
     ]
    },
    {
     "data": {
      "text/plain": [
       "<tensorflow.python.keras.callbacks.History at 0x1949c0113c8>"
      ]
     },
     "execution_count": 29,
     "metadata": {},
     "output_type": "execute_result"
    }
   ],
   "source": [
    "model = Sequential()\n",
    "# our first dense layer\n",
    "model.add(Dense(512, input_shape=(784,), activation=\"relu\"))\n",
    "# our second dense layer\n",
    "model.add(Dense(256, activation=\"relu\"))\n",
    "# our third dense layer\n",
    "model.add(Dense(128, activation=\"relu\"))\n",
    "# last layer is the output layer.\n",
    "model.add(Dense(10, activation=\"softmax\"))\n",
    "\n",
    "model.compile(optimizer='sgd', loss='categorical_crossentropy',\n",
    "              metrics=['accuracy'])\n",
    "\n",
    "# setting verbose=1 prints out some results after each epoch\n",
    "model.fit(X_train, Y_train, batch_size=batch_size, epochs=20, verbose=1)"
   ]
  },
  {
   "cell_type": "code",
   "execution_count": 30,
   "metadata": {
    "colab": {
     "base_uri": "https://localhost:8080/",
     "height": 50
    },
    "colab_type": "code",
    "executionInfo": {
     "elapsed": 103164,
     "status": "ok",
     "timestamp": 1588975506670,
     "user": {
      "displayName": "Henry Ssembatya",
      "photoUrl": "",
      "userId": "05835713183770896924"
     },
     "user_tz": 420
    },
    "id": "UAAcIHJaTolb",
    "outputId": "853eeb01-fc69-4bf1-e766-2be4d4dd3752"
   },
   "outputs": [
    {
     "name": "stdout",
     "output_type": "stream",
     "text": [
      "Test score: 0.38837714858055117\n",
      "Test accuracy: 0.8585\n"
     ]
    }
   ],
   "source": [
    "score = model.evaluate(X_test, Y_test, verbose=0)\n",
    "print('Test score:', score[0])\n",
    "print('Test accuracy:', score[1])"
   ]
  },
  {
   "cell_type": "markdown",
   "metadata": {
    "colab_type": "text",
    "id": "Si8S-nhvTtyz"
   },
   "source": [
    " **neurons =256,128,64,10**"
   ]
  },
  {
   "cell_type": "code",
   "execution_count": 31,
   "metadata": {
    "colab": {
     "base_uri": "https://localhost:8080/",
     "height": 440
    },
    "colab_type": "code",
    "executionInfo": {
     "elapsed": 156570,
     "status": "ok",
     "timestamp": 1588975560097,
     "user": {
      "displayName": "Henry Ssembatya",
      "photoUrl": "",
      "userId": "05835713183770896924"
     },
     "user_tz": 420
    },
    "id": "rPolzZwNTyx6",
    "outputId": "d6980a68-f94d-46b3-cebc-fcee12521a94"
   },
   "outputs": [
    {
     "name": "stdout",
     "output_type": "stream",
     "text": [
      "Train on 60000 samples\n",
      "Epoch 1/20\n",
      "WARNING:tensorflow:Entity <function Function._initialize_uninitialized_variables.<locals>.initialize_variables at 0x000001949CED4798> could not be transformed and will be executed as-is. Please report this to the AutoGraph team. When filing the bug, set the verbosity to 10 (on Linux, `export AUTOGRAPH_VERBOSITY=10`) and attach the full output. Cause: module 'gast' has no attribute 'Num'\n",
      "WARNING: Entity <function Function._initialize_uninitialized_variables.<locals>.initialize_variables at 0x000001949CED4798> could not be transformed and will be executed as-is. Please report this to the AutoGraph team. When filing the bug, set the verbosity to 10 (on Linux, `export AUTOGRAPH_VERBOSITY=10`) and attach the full output. Cause: module 'gast' has no attribute 'Num'\n",
      "60000/60000 [==============================] - 7s 109us/sample - loss: 1.0739 - accuracy: 0.6658\n",
      "Epoch 2/20\n",
      "60000/60000 [==============================] - 7s 113us/sample - loss: 0.6188 - accuracy: 0.7912\n",
      "Epoch 3/20\n",
      "60000/60000 [==============================] - 6s 97us/sample - loss: 0.5362 - accuracy: 0.8151s\n",
      "Epoch 4/20\n",
      "60000/60000 [==============================] - 6s 95us/sample - loss: 0.4964 - accuracy: 0.8267\n",
      "Epoch 5/20\n",
      "60000/60000 [==============================] - 5s 88us/sample - loss: 0.4706 - accuracy: 0.8349\n",
      "Epoch 6/20\n",
      "60000/60000 [==============================] - 5s 80us/sample - loss: 0.4523 - accuracy: 0.8403\n",
      "Epoch 7/20\n",
      "60000/60000 [==============================] - 4s 72us/sample - loss: 0.4369 - accuracy: 0.8475\n",
      "Epoch 8/20\n",
      "60000/60000 [==============================] - 4s 72us/sample - loss: 0.4269 - accuracy: 0.8493\n",
      "Epoch 9/20\n",
      "60000/60000 [==============================] - 4s 75us/sample - loss: 0.4145 - accuracy: 0.8541\n",
      "Epoch 10/20\n",
      "60000/60000 [==============================] - 5s 81us/sample - loss: 0.4065 - accuracy: 0.8572\n",
      "Epoch 11/20\n",
      "60000/60000 [==============================] - 4s 74us/sample - loss: 0.3977 - accuracy: 0.8607\n",
      "Epoch 12/20\n",
      "60000/60000 [==============================] - 4s 72us/sample - loss: 0.3900 - accuracy: 0.8624\n",
      "Epoch 13/20\n",
      "60000/60000 [==============================] - 4s 73us/sample - loss: 0.3829 - accuracy: 0.8648\n",
      "Epoch 14/20\n",
      "60000/60000 [==============================] - 4s 73us/sample - loss: 0.3778 - accuracy: 0.8666\n",
      "Epoch 15/20\n",
      "60000/60000 [==============================] - 4s 73us/sample - loss: 0.3727 - accuracy: 0.8672\n",
      "Epoch 16/20\n",
      "60000/60000 [==============================] - 5s 88us/sample - loss: 0.3669 - accuracy: 0.8705\n",
      "Epoch 17/20\n",
      "60000/60000 [==============================] - 5s 91us/sample - loss: 0.3629 - accuracy: 0.8712\n",
      "Epoch 18/20\n",
      "60000/60000 [==============================] - 5s 88us/sample - loss: 0.3568 - accuracy: 0.8728\n",
      "Epoch 19/20\n",
      "60000/60000 [==============================] - 4s 72us/sample - loss: 0.3528 - accuracy: 0.8741\n",
      "Epoch 20/20\n",
      "60000/60000 [==============================] - 4s 71us/sample - loss: 0.3475 - accuracy: 0.8754\n"
     ]
    },
    {
     "data": {
      "text/plain": [
       "<tensorflow.python.keras.callbacks.History at 0x1949cee6e08>"
      ]
     },
     "execution_count": 31,
     "metadata": {},
     "output_type": "execute_result"
    }
   ],
   "source": [
    "model = Sequential()\n",
    "# our first dense layer\n",
    "model.add(Dense(256, input_shape=(784,), activation=\"relu\"))\n",
    "# our second dense layer\n",
    "model.add(Dense(128, activation=\"relu\"))\n",
    "# our third dense layer\n",
    "model.add(Dense(64, activation=\"relu\"))\n",
    "# last layer is the output layer.\n",
    "model.add(Dense(10, activation=\"softmax\"))\n",
    "\n",
    "model.compile(optimizer='sgd', loss='categorical_crossentropy',\n",
    "              metrics=['accuracy'])\n",
    "\n",
    "# setting verbose=1 prints out some results after each epoch\n",
    "model.fit(X_train, Y_train, batch_size=batch_size, epochs=20, verbose=1)"
   ]
  },
  {
   "cell_type": "code",
   "execution_count": 32,
   "metadata": {
    "colab": {
     "base_uri": "https://localhost:8080/",
     "height": 50
    },
    "colab_type": "code",
    "executionInfo": {
     "elapsed": 1343,
     "status": "ok",
     "timestamp": 1588975789953,
     "user": {
      "displayName": "Henry Ssembatya",
      "photoUrl": "",
      "userId": "05835713183770896924"
     },
     "user_tz": 420
    },
    "id": "bVmKhJFPT9QN",
    "outputId": "7f9b428f-6fb2-4875-e295-9aa0d55ece74"
   },
   "outputs": [
    {
     "name": "stdout",
     "output_type": "stream",
     "text": [
      "Test score: 0.3910407332897186\n",
      "Test accuracy: 0.8604\n"
     ]
    }
   ],
   "source": [
    "score = model.evaluate(X_test, Y_test, verbose=0)\n",
    "print('Test score:', score[0])\n",
    "print('Test accuracy:', score[1])"
   ]
  },
  {
   "cell_type": "markdown",
   "metadata": {
    "colab_type": "text",
    "id": "AR4-sM1pVr03"
   },
   "source": [
    "<b>Comparison</b>\n",
    "<p>The results from using 1024,512,256,10 and using 512,256,128,10 are very similar for both training and testing. These results were also higher than those from using 256,128,64,10.</p>"
   ]
  },
  {
   "cell_type": "code",
   "execution_count": null,
   "metadata": {
    "colab": {},
    "colab_type": "code",
    "id": "lGSZq9Q8WS22"
   },
   "outputs": [],
   "source": []
  },
  {
   "cell_type": "markdown",
   "metadata": {
    "colab_type": "text",
    "id": "tcYrM5WIWZe5"
   },
   "source": [
    "**<h2>Different batch sizes during training.</h2>**"
   ]
  },
  {
   "cell_type": "markdown",
   "metadata": {
    "colab_type": "text",
    "id": "hsWuQ11QXGH7"
   },
   "source": [
    "**minibatch size=8**"
   ]
  },
  {
   "cell_type": "code",
   "execution_count": 33,
   "metadata": {
    "colab": {
     "base_uri": "https://localhost:8080/",
     "height": 440
    },
    "colab_type": "code",
    "executionInfo": {
     "elapsed": 348035,
     "status": "ok",
     "timestamp": 1588976568958,
     "user": {
      "displayName": "Henry Ssembatya",
      "photoUrl": "",
      "userId": "05835713183770896924"
     },
     "user_tz": 420
    },
    "id": "0Mxbc3ACXKEf",
    "outputId": "76b62223-0221-413b-8fe9-44ac4b3b984f"
   },
   "outputs": [
    {
     "name": "stdout",
     "output_type": "stream",
     "text": [
      "Train on 60000 samples\n",
      "Epoch 1/20\n",
      "WARNING:tensorflow:Entity <function Function._initialize_uninitialized_variables.<locals>.initialize_variables at 0x000001949E64A708> could not be transformed and will be executed as-is. Please report this to the AutoGraph team. When filing the bug, set the verbosity to 10 (on Linux, `export AUTOGRAPH_VERBOSITY=10`) and attach the full output. Cause: module 'gast' has no attribute 'Num'\n",
      "WARNING: Entity <function Function._initialize_uninitialized_variables.<locals>.initialize_variables at 0x000001949E64A708> could not be transformed and will be executed as-is. Please report this to the AutoGraph team. When filing the bug, set the verbosity to 10 (on Linux, `export AUTOGRAPH_VERBOSITY=10`) and attach the full output. Cause: module 'gast' has no attribute 'Num'\n",
      "60000/60000 [==============================] - 41s 690us/sample - loss: 0.5512 - accuracy: 0.8045\n",
      "Epoch 2/20\n",
      "60000/60000 [==============================] - 40s 659us/sample - loss: 0.3941 - accuracy: 0.8559\n",
      "Epoch 3/20\n",
      "60000/60000 [==============================] - 41s 676us/sample - loss: 0.3531 - accuracy: 0.8706\n",
      "Epoch 4/20\n",
      "60000/60000 [==============================] - 42s 694us/sample - loss: 0.3273 - accuracy: 0.8797\n",
      "Epoch 5/20\n",
      "60000/60000 [==============================] - 39s 653us/sample - loss: 0.3085 - accuracy: 0.8844\n",
      "Epoch 6/20\n",
      "60000/60000 [==============================] - 40s 660us/sample - loss: 0.2932 - accuracy: 0.8904\n",
      "Epoch 7/20\n",
      "60000/60000 [==============================] - 40s 666us/sample - loss: 0.2802 - accuracy: 0.8936\n",
      "Epoch 8/20\n",
      "60000/60000 [==============================] - 39s 649us/sample - loss: 0.2679 - accuracy: 0.8999\n",
      "Epoch 9/20\n",
      "60000/60000 [==============================] - 38s 640us/sample - loss: 0.2597 - accuracy: 0.9031\n",
      "Epoch 10/20\n",
      "60000/60000 [==============================] - 39s 645us/sample - loss: 0.2485 - accuracy: 0.9072\n",
      "Epoch 11/20\n",
      "60000/60000 [==============================] - 40s 659us/sample - loss: 0.2389 - accuracy: 0.9110\n",
      "Epoch 12/20\n",
      "60000/60000 [==============================] - 39s 650us/sample - loss: 0.2319 - accuracy: 0.9128\n",
      "Epoch 13/20\n",
      "60000/60000 [==============================] - 39s 649us/sample - loss: 0.2245 - accuracy: 0.9165\n",
      "Epoch 14/20\n",
      "60000/60000 [==============================] - 39s 651us/sample - loss: 0.2179 - accuracy: 0.9179\n",
      "Epoch 15/20\n",
      "60000/60000 [==============================] - 38s 640us/sample - loss: 0.2113 - accuracy: 0.9206\n",
      "Epoch 16/20\n",
      "60000/60000 [==============================] - 39s 649us/sample - loss: 0.2046 - accuracy: 0.9234\n",
      "Epoch 17/20\n",
      "60000/60000 [==============================] - 39s 649us/sample - loss: 0.1983 - accuracy: 0.9246\n",
      "Epoch 18/20\n",
      "60000/60000 [==============================] - 38s 635us/sample - loss: 0.1926 - accuracy: 0.9262\n",
      "Epoch 19/20\n",
      "60000/60000 [==============================] - 39s 647us/sample - loss: 0.1862 - accuracy: 0.9288\n",
      "Epoch 20/20\n",
      "60000/60000 [==============================] - 38s 639us/sample - loss: 0.1812 - accuracy: 0.9312\n"
     ]
    },
    {
     "data": {
      "text/plain": [
       "<tensorflow.python.keras.callbacks.History at 0x1949e65ca88>"
      ]
     },
     "execution_count": 33,
     "metadata": {},
     "output_type": "execute_result"
    }
   ],
   "source": [
    "model = Sequential()\n",
    "# our first dense layer\n",
    "model.add(Dense(256, input_shape=(784,), activation=\"relu\"))\n",
    "# our second dense layer\n",
    "model.add(Dense(128, activation=\"relu\"))\n",
    "# our third dense layer\n",
    "model.add(Dense(64, activation=\"relu\"))\n",
    "# last layer is the output layer.\n",
    "model.add(Dense(10, activation=\"softmax\"))\n",
    "\n",
    "model.compile(optimizer='sgd', loss='categorical_crossentropy',\n",
    "              metrics=['accuracy'])\n",
    "\n",
    "# setting verbose=1 prints out some results after each epoch\n",
    "model.fit(X_train, Y_train, batch_size=8, epochs=20, verbose=1)"
   ]
  },
  {
   "cell_type": "code",
   "execution_count": 34,
   "metadata": {
    "colab": {
     "base_uri": "https://localhost:8080/",
     "height": 50
    },
    "colab_type": "code",
    "executionInfo": {
     "elapsed": 338456,
     "status": "ok",
     "timestamp": 1588976569728,
     "user": {
      "displayName": "Henry Ssembatya",
      "photoUrl": "",
      "userId": "05835713183770896924"
     },
     "user_tz": 420
    },
    "id": "ZfbSlkh6XPoI",
    "outputId": "3f115dac-d16b-4d1e-e59d-eaa0cb886591"
   },
   "outputs": [
    {
     "name": "stdout",
     "output_type": "stream",
     "text": [
      "Test score: 0.32388387467861174\n",
      "Test accuracy: 0.8914\n"
     ]
    }
   ],
   "source": [
    "score = model.evaluate(X_test, Y_test, verbose=0)\n",
    "print('Test score:', score[0])\n",
    "print('Test accuracy:', score[1])"
   ]
  },
  {
   "cell_type": "markdown",
   "metadata": {
    "colab_type": "text",
    "id": "Lt3wGLFsXUes"
   },
   "source": [
    "**minibatch size=128**"
   ]
  },
  {
   "cell_type": "code",
   "execution_count": 35,
   "metadata": {
    "colab": {
     "base_uri": "https://localhost:8080/",
     "height": 440
    },
    "colab_type": "code",
    "executionInfo": {
     "elapsed": 59650,
     "status": "ok",
     "timestamp": 1588976629390,
     "user": {
      "displayName": "Henry Ssembatya",
      "photoUrl": "",
      "userId": "05835713183770896924"
     },
     "user_tz": 420
    },
    "id": "B7ypiv6IXWR7",
    "outputId": "39cc0226-7ce7-4b51-fee5-e17f53863ad6"
   },
   "outputs": [
    {
     "name": "stdout",
     "output_type": "stream",
     "text": [
      "Train on 60000 samples\n",
      "Epoch 1/20\n",
      "WARNING:tensorflow:Entity <function Function._initialize_uninitialized_variables.<locals>.initialize_variables at 0x000001949ED93798> could not be transformed and will be executed as-is. Please report this to the AutoGraph team. When filing the bug, set the verbosity to 10 (on Linux, `export AUTOGRAPH_VERBOSITY=10`) and attach the full output. Cause: module 'gast' has no attribute 'Num'\n",
      "WARNING: Entity <function Function._initialize_uninitialized_variables.<locals>.initialize_variables at 0x000001949ED93798> could not be transformed and will be executed as-is. Please report this to the AutoGraph team. When filing the bug, set the verbosity to 10 (on Linux, `export AUTOGRAPH_VERBOSITY=10`) and attach the full output. Cause: module 'gast' has no attribute 'Num'\n",
      "60000/60000 [==============================] - 5s 90us/sample - loss: 1.0849 - accuracy: 0.6758\n",
      "Epoch 2/20\n",
      "60000/60000 [==============================] - 4s 64us/sample - loss: 0.6038 - accuracy: 0.7973\n",
      "Epoch 3/20\n",
      "60000/60000 [==============================] - 4s 64us/sample - loss: 0.5259 - accuracy: 0.8189\n",
      "Epoch 4/20\n",
      "60000/60000 [==============================] - 4s 63us/sample - loss: 0.4888 - accuracy: 0.8298\n",
      "Epoch 5/20\n",
      "60000/60000 [==============================] - 4s 65us/sample - loss: 0.4662 - accuracy: 0.8364\n",
      "Epoch 6/20\n",
      "60000/60000 [==============================] - 4s 65us/sample - loss: 0.4458 - accuracy: 0.8436\n",
      "Epoch 7/20\n",
      "60000/60000 [==============================] - 4s 65us/sample - loss: 0.4327 - accuracy: 0.8480\n",
      "Epoch 8/20\n",
      "60000/60000 [==============================] - 4s 67us/sample - loss: 0.4205 - accuracy: 0.8529\n",
      "Epoch 9/20\n",
      "60000/60000 [==============================] - 4s 65us/sample - loss: 0.4090 - accuracy: 0.8578\n",
      "Epoch 10/20\n",
      "60000/60000 [==============================] - 4s 63us/sample - loss: 0.4001 - accuracy: 0.8601\n",
      "Epoch 11/20\n",
      "60000/60000 [==============================] - 4s 67us/sample - loss: 0.3927 - accuracy: 0.8625\n",
      "Epoch 12/20\n",
      "60000/60000 [==============================] - 4s 65us/sample - loss: 0.3849 - accuracy: 0.8644\n",
      "Epoch 13/20\n",
      "60000/60000 [==============================] - 4s 67us/sample - loss: 0.3766 - accuracy: 0.8674\n",
      "Epoch 14/20\n",
      "60000/60000 [==============================] - 4s 64us/sample - loss: 0.3725 - accuracy: 0.8694\n",
      "Epoch 15/20\n",
      "60000/60000 [==============================] - 4s 68us/sample - loss: 0.3675 - accuracy: 0.8707\n",
      "Epoch 16/20\n",
      "60000/60000 [==============================] - 4s 68us/sample - loss: 0.3597 - accuracy: 0.8736\n",
      "Epoch 17/20\n",
      "60000/60000 [==============================] - 4s 66us/sample - loss: 0.3552 - accuracy: 0.8748\n",
      "Epoch 18/20\n",
      "60000/60000 [==============================] - 4s 67us/sample - loss: 0.3502 - accuracy: 0.8755\n",
      "Epoch 19/20\n",
      "60000/60000 [==============================] - 4s 69us/sample - loss: 0.3467 - accuracy: 0.8767\n",
      "Epoch 20/20\n",
      "60000/60000 [==============================] - 4s 69us/sample - loss: 0.3407 - accuracy: 0.8792\n"
     ]
    },
    {
     "data": {
      "text/plain": [
       "<tensorflow.python.keras.callbacks.History at 0x1949eda79c8>"
      ]
     },
     "execution_count": 35,
     "metadata": {},
     "output_type": "execute_result"
    }
   ],
   "source": [
    "model = Sequential()\n",
    "# our first dense layer\n",
    "model.add(Dense(256, input_shape=(784,), activation=\"relu\"))\n",
    "# our second dense layer\n",
    "model.add(Dense(128, activation=\"relu\"))\n",
    "# our third dense layer\n",
    "model.add(Dense(64, activation=\"relu\"))\n",
    "# last layer is the output layer.\n",
    "model.add(Dense(10, activation=\"softmax\"))\n",
    "\n",
    "model.compile(optimizer='sgd', loss='categorical_crossentropy',\n",
    "              metrics=['accuracy'])\n",
    "\n",
    "# setting verbose=1 prints out some results after each epoch\n",
    "model.fit(X_train, Y_train, batch_size=128, epochs=20, verbose=1)"
   ]
  },
  {
   "cell_type": "code",
   "execution_count": 36,
   "metadata": {
    "colab": {
     "base_uri": "https://localhost:8080/",
     "height": 50
    },
    "colab_type": "code",
    "executionInfo": {
     "elapsed": 60390,
     "status": "ok",
     "timestamp": 1588976630154,
     "user": {
      "displayName": "Henry Ssembatya",
      "photoUrl": "",
      "userId": "05835713183770896924"
     },
     "user_tz": 420
    },
    "id": "Yf13SU-4X77V",
    "outputId": "7de6f887-cc0e-440e-eef0-22bfd8d9fd1f"
   },
   "outputs": [
    {
     "name": "stdout",
     "output_type": "stream",
     "text": [
      "Test score: 0.38489504384994505\n",
      "Test accuracy: 0.8644\n"
     ]
    }
   ],
   "source": [
    "score = model.evaluate(X_test, Y_test, verbose=0)\n",
    "print('Test score:', score[0])\n",
    "print('Test accuracy:', score[1])"
   ]
  },
  {
   "cell_type": "markdown",
   "metadata": {
    "colab_type": "text",
    "id": "NLMJil3yYBbp"
   },
   "source": [
    "**full batch size**"
   ]
  },
  {
   "cell_type": "code",
   "execution_count": 37,
   "metadata": {
    "colab": {
     "base_uri": "https://localhost:8080/",
     "height": 440
    },
    "colab_type": "code",
    "executionInfo": {
     "elapsed": 28921,
     "status": "ok",
     "timestamp": 1588977140784,
     "user": {
      "displayName": "Henry Ssembatya",
      "photoUrl": "",
      "userId": "05835713183770896924"
     },
     "user_tz": 420
    },
    "id": "rvXS81PnYE3F",
    "outputId": "6e12c9bf-c99b-4ea4-ae3b-712855b6aea5"
   },
   "outputs": [
    {
     "name": "stdout",
     "output_type": "stream",
     "text": [
      "Train on 60000 samples\n",
      "Epoch 1/20\n",
      "WARNING:tensorflow:Entity <function Function._initialize_uninitialized_variables.<locals>.initialize_variables at 0x00000194A0506828> could not be transformed and will be executed as-is. Please report this to the AutoGraph team. When filing the bug, set the verbosity to 10 (on Linux, `export AUTOGRAPH_VERBOSITY=10`) and attach the full output. Cause: module 'gast' has no attribute 'Num'\n",
      "WARNING: Entity <function Function._initialize_uninitialized_variables.<locals>.initialize_variables at 0x00000194A0506828> could not be transformed and will be executed as-is. Please report this to the AutoGraph team. When filing the bug, set the verbosity to 10 (on Linux, `export AUTOGRAPH_VERBOSITY=10`) and attach the full output. Cause: module 'gast' has no attribute 'Num'\n",
      "60000/60000 [==============================] - 15s 247us/sample - loss: 2.3608 - accuracy: 0.1181\n",
      "Epoch 2/20\n",
      "60000/60000 [==============================] - 3s 57us/sample - loss: 2.3402 - accuracy: 0.1232\n",
      "Epoch 3/20\n",
      "60000/60000 [==============================] - 2s 34us/sample - loss: 2.3215 - accuracy: 0.1284\n",
      "Epoch 4/20\n",
      "60000/60000 [==============================] - 2s 37us/sample - loss: 2.3041 - accuracy: 0.1338\n",
      "Epoch 5/20\n",
      "60000/60000 [==============================] - 2s 33us/sample - loss: 2.2877 - accuracy: 0.1384\n",
      "Epoch 6/20\n",
      "60000/60000 [==============================] - 2s 31us/sample - loss: 2.2722 - accuracy: 0.1429\n",
      "Epoch 7/20\n",
      "60000/60000 [==============================] - 2s 30us/sample - loss: 2.2574 - accuracy: 0.1482\n",
      "Epoch 8/20\n",
      "60000/60000 [==============================] - 2s 32us/sample - loss: 2.2431 - accuracy: 0.1539\n",
      "Epoch 9/20\n",
      "60000/60000 [==============================] - 2s 31us/sample - loss: 2.2294 - accuracy: 0.1612\n",
      "Epoch 10/20\n",
      "60000/60000 [==============================] - 2s 32us/sample - loss: 2.2162 - accuracy: 0.1695\n",
      "Epoch 11/20\n",
      "60000/60000 [==============================] - 2s 35us/sample - loss: 2.2033 - accuracy: 0.1801\n",
      "Epoch 12/20\n",
      "60000/60000 [==============================] - 2s 34us/sample - loss: 2.1909 - accuracy: 0.1935\n",
      "Epoch 13/20\n",
      "60000/60000 [==============================] - 2s 34us/sample - loss: 2.1788 - accuracy: 0.2089\n",
      "Epoch 14/20\n",
      "60000/60000 [==============================] - 2s 33us/sample - loss: 2.1670 - accuracy: 0.2242\n",
      "Epoch 15/20\n",
      "60000/60000 [==============================] - 2s 32us/sample - loss: 2.1555 - accuracy: 0.2401\n",
      "Epoch 16/20\n",
      "60000/60000 [==============================] - 2s 33us/sample - loss: 2.1442 - accuracy: 0.2560\n",
      "Epoch 17/20\n",
      "60000/60000 [==============================] - 2s 32us/sample - loss: 2.1330 - accuracy: 0.2715\n",
      "Epoch 18/20\n",
      "60000/60000 [==============================] - 2s 31us/sample - loss: 2.1219 - accuracy: 0.2867\n",
      "Epoch 19/20\n",
      "60000/60000 [==============================] - 2s 33us/sample - loss: 2.1108 - accuracy: 0.3016\n",
      "Epoch 20/20\n",
      "60000/60000 [==============================] - 2s 31us/sample - loss: 2.0998 - accuracy: 0.3160\n"
     ]
    },
    {
     "data": {
      "text/plain": [
       "<tensorflow.python.keras.callbacks.History at 0x194a0520788>"
      ]
     },
     "execution_count": 37,
     "metadata": {},
     "output_type": "execute_result"
    }
   ],
   "source": [
    "model = Sequential()\n",
    "# our first dense layer\n",
    "model.add(Dense(256, input_shape=(784,), activation=\"relu\"))\n",
    "# our second dense layer\n",
    "model.add(Dense(128, activation=\"relu\"))\n",
    "# our third dense layer\n",
    "model.add(Dense(64, activation=\"relu\"))\n",
    "# last layer is the output layer.\n",
    "model.add(Dense(10, activation=\"softmax\"))\n",
    "\n",
    "model.compile(optimizer='sgd', loss='categorical_crossentropy',\n",
    "              metrics=['accuracy'])\n",
    "\n",
    "# setting verbose=1 prints out some results after each epoch\n",
    "model.fit(X_train, Y_train, X_train.shape[0], epochs=20, verbose=1)"
   ]
  },
  {
   "cell_type": "code",
   "execution_count": 38,
   "metadata": {
    "colab": {
     "base_uri": "https://localhost:8080/",
     "height": 50
    },
    "colab_type": "code",
    "executionInfo": {
     "elapsed": 945,
     "status": "ok",
     "timestamp": 1588977188656,
     "user": {
      "displayName": "Henry Ssembatya",
      "photoUrl": "",
      "userId": "05835713183770896924"
     },
     "user_tz": 420
    },
    "id": "Pn49qV6Ram71",
    "outputId": "6788cbac-76f7-4bc0-f150-9792aaf4942a"
   },
   "outputs": [
    {
     "name": "stdout",
     "output_type": "stream",
     "text": [
      "Test score: 2.090490839767456\n",
      "Test accuracy: 0.3249\n"
     ]
    }
   ],
   "source": [
    "score = model.evaluate(X_test, Y_test, verbose=0)\n",
    "print('Test score:', score[0])\n",
    "print('Test accuracy:', score[1])"
   ]
  },
  {
   "cell_type": "markdown",
   "metadata": {
    "colab_type": "text",
    "id": "Nn55j_RBavA_"
   },
   "source": [
    "<b>Comparison</b>\n",
    "<p>The model that performed best with regard to the test data was when the batch size was 8. However when both the performance on the training set and test set are put into consideration, the 128 batch size was the best. Using the full batch size produced the worst results both with the training and testing  </p>"
   ]
  },
  {
   "cell_type": "code",
   "execution_count": null,
   "metadata": {
    "colab": {},
    "colab_type": "code",
    "id": "m4EEcnntazhe"
   },
   "outputs": [],
   "source": []
  }
 ],
 "metadata": {
  "colab": {
   "authorship_tag": "ABX9TyPdh4yJ5Z/d7I420g5fFTTs",
   "collapsed_sections": [],
   "name": "Challenge.ipynb",
   "provenance": []
  },
  "kernelspec": {
   "display_name": "Python 3",
   "language": "python",
   "name": "python3"
  },
  "language_info": {
   "codemirror_mode": {
    "name": "ipython",
    "version": 3
   },
   "file_extension": ".py",
   "mimetype": "text/x-python",
   "name": "python",
   "nbconvert_exporter": "python",
   "pygments_lexer": "ipython3",
   "version": "3.7.4"
  }
 },
 "nbformat": 4,
 "nbformat_minor": 1
}
